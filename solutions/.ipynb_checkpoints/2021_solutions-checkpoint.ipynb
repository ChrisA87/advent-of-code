{
 "cells": [
  {
   "cell_type": "markdown",
   "id": "ea03b3ca",
   "metadata": {},
   "source": [
    "# Advent of Code 2021 Solutions"
   ]
  },
  {
   "cell_type": "code",
   "execution_count": 1,
   "id": "7dad9048",
   "metadata": {},
   "outputs": [],
   "source": [
    "import pandas as pd\n",
    "import numpy as np\n",
    "from aoc import get_input_data"
   ]
  },
  {
   "cell_type": "markdown",
   "id": "b9696699",
   "metadata": {},
   "source": [
    "---\n",
    "## Day 1"
   ]
  },
  {
   "cell_type": "markdown",
   "id": "6e465113",
   "metadata": {},
   "source": [
    "### part 1"
   ]
  },
  {
   "cell_type": "code",
   "execution_count": 2,
   "id": "ac03d304",
   "metadata": {},
   "outputs": [
    {
     "data": {
      "text/plain": [
       "1121"
      ]
     },
     "execution_count": 2,
     "metadata": {},
     "output_type": "execute_result"
    }
   ],
   "source": [
    "data = get_input_data(1, year=2021)\n",
    "data = list(map(int, data.split('\\n')))\n",
    "\n",
    "prev = np.inf\n",
    "count = 0\n",
    "\n",
    "for x in data:\n",
    "    if x > prev:\n",
    "        count += 1\n",
    "    prev = x\n",
    "count"
   ]
  },
  {
   "cell_type": "markdown",
   "id": "980989b0",
   "metadata": {},
   "source": [
    "### part 2"
   ]
  },
  {
   "cell_type": "code",
   "execution_count": 3,
   "id": "3e40af70",
   "metadata": {},
   "outputs": [
    {
     "data": {
      "text/plain": [
       "1065"
      ]
     },
     "execution_count": 3,
     "metadata": {},
     "output_type": "execute_result"
    }
   ],
   "source": [
    "prev = np.inf\n",
    "count = 0\n",
    "stride = 3\n",
    "\n",
    "for i in range(len(data) - stride + 1):\n",
    "    depths = data[i:i + stride]\n",
    "    total = sum(depths)\n",
    "    if total > prev:\n",
    "        count += 1\n",
    "    prev = total\n",
    "count"
   ]
  },
  {
   "cell_type": "markdown",
   "id": "3805c432",
   "metadata": {},
   "source": [
    "---\n",
    "## Day 2"
   ]
  },
  {
   "cell_type": "markdown",
   "id": "fe7bea0f",
   "metadata": {},
   "source": [
    "### part 1"
   ]
  },
  {
   "cell_type": "code",
   "execution_count": 4,
   "id": "41770075",
   "metadata": {},
   "outputs": [
    {
     "name": "stdout",
     "output_type": "stream",
     "text": [
      "1855814\n"
     ]
    }
   ],
   "source": [
    "data = get_input_data(2, year=2021)\n",
    "data\n",
    "\n",
    "data = data.split('\\n')\n",
    "\n",
    "x = 0\n",
    "y = 0\n",
    "\n",
    "for step in data:\n",
    "    direction, val = step.split()\n",
    "    val = int(val)\n",
    "    \n",
    "    if direction == 'forward':\n",
    "        x += val\n",
    "    elif direction == 'down':\n",
    "        y += val\n",
    "    elif direction == 'up':\n",
    "        y -= val\n",
    "print(x * y)"
   ]
  },
  {
   "cell_type": "markdown",
   "id": "9cb2d5ea",
   "metadata": {},
   "source": [
    "```\n",
    "down X increases your aim by X units.\n",
    "up X decreases your aim by X units.\n",
    "forward X does two things:\n",
    "It increases your horizontal position by X units.\n",
    "It increases your depth by your aim multiplied by X.\n",
    "```"
   ]
  },
  {
   "cell_type": "markdown",
   "id": "2caa5020",
   "metadata": {},
   "source": [
    "### part 2"
   ]
  },
  {
   "cell_type": "code",
   "execution_count": 5,
   "id": "db7ec7ab",
   "metadata": {},
   "outputs": [
    {
     "name": "stdout",
     "output_type": "stream",
     "text": [
      "1845455714\n"
     ]
    }
   ],
   "source": [
    "x = 0\n",
    "y = 0\n",
    "aim = 0\n",
    "\n",
    "for step in data:\n",
    "    direction, val = step.split()\n",
    "    val = int(val)\n",
    "    \n",
    "    if direction == 'forward':\n",
    "        x += val\n",
    "        y += val * aim\n",
    "    elif direction == 'down':\n",
    "        aim += val\n",
    "    elif direction == 'up':\n",
    "        aim -= val\n",
    "print(x * y)"
   ]
  },
  {
   "cell_type": "markdown",
   "id": "e261425d",
   "metadata": {},
   "source": [
    "---\n",
    "## Day 3"
   ]
  },
  {
   "cell_type": "code",
   "execution_count": 6,
   "id": "d5f7af92",
   "metadata": {},
   "outputs": [],
   "source": [
    "from collections import Counter"
   ]
  },
  {
   "cell_type": "code",
   "execution_count": 7,
   "id": "9092baf2",
   "metadata": {},
   "outputs": [],
   "source": [
    "data = get_input_data(3, year=2021)\n",
    "data = data.split('\\n')\n"
   ]
  },
  {
   "cell_type": "markdown",
   "id": "33a632d6",
   "metadata": {},
   "source": [
    "### part 1"
   ]
  },
  {
   "cell_type": "code",
   "execution_count": 8,
   "id": "5625f810",
   "metadata": {},
   "outputs": [
    {
     "data": {
      "text/plain": [
       "2498354"
      ]
     },
     "execution_count": 8,
     "metadata": {},
     "output_type": "execute_result"
    }
   ],
   "source": [
    "gamma = ''\n",
    "epsilon = ''\n",
    "\n",
    "for digits in zip(*data):\n",
    "    counts = Counter(digits)\n",
    "    (g, _), (e, _) = counts.most_common()\n",
    "    gamma += g\n",
    "    epsilon += e\n",
    "\n",
    "result = int(gamma, 2) * int(epsilon, 2)\n",
    "result"
   ]
  },
  {
   "cell_type": "code",
   "execution_count": 9,
   "id": "ff780fca",
   "metadata": {},
   "outputs": [],
   "source": [
    "def filter_data(data, position, value):\n",
    "    return [x for x in data if x[position] == value]"
   ]
  },
  {
   "cell_type": "markdown",
   "id": "b496697f",
   "metadata": {},
   "source": [
    "### Part 2"
   ]
  },
  {
   "cell_type": "code",
   "execution_count": 10,
   "id": "514f7272",
   "metadata": {},
   "outputs": [
    {
     "data": {
      "text/plain": [
       "3921"
      ]
     },
     "execution_count": 10,
     "metadata": {},
     "output_type": "execute_result"
    }
   ],
   "source": [
    "result = data[:]\n",
    "\n",
    "for position in range(len(data[0])):\n",
    "    digits = [x[position] for x in result]\n",
    "    counts = Counter(digits)\n",
    "    (oxygen, oxygen_count), (scrubber, scrubber_count) = counts.most_common()\n",
    "    if oxygen_count == scrubber_count:\n",
    "        oxygen = '1'\n",
    "    result = filter_data(result, position, oxygen)\n",
    "    if len(result) == 1:\n",
    "        break\n",
    "\n",
    "o = int(result[0], 2)\n",
    "o\n"
   ]
  },
  {
   "cell_type": "code",
   "execution_count": 11,
   "id": "bf4e9002",
   "metadata": {},
   "outputs": [
    {
     "data": {
      "text/plain": [
       "3277956"
      ]
     },
     "execution_count": 11,
     "metadata": {},
     "output_type": "execute_result"
    }
   ],
   "source": [
    "result = data[:]\n",
    "\n",
    "for position in range(len(data[0])):\n",
    "    digits = [x[position] for x in result]\n",
    "    counts = Counter(digits)\n",
    "    (oxygen, oxygen_count), (scrubber, scrubber_count) = counts.most_common()\n",
    "    if oxygen_count == scrubber_count:\n",
    "        scrubber = '0'\n",
    "    result = filter_data(result, position, scrubber)\n",
    "    if len(result) == 1:\n",
    "        break\n",
    "\n",
    "s = int(result[0], 2)\n",
    "o * s\n"
   ]
  },
  {
   "cell_type": "markdown",
   "id": "10b8a9cb",
   "metadata": {},
   "source": [
    "---"
   ]
  },
  {
   "cell_type": "code",
   "execution_count": null,
   "id": "92de1a9d",
   "metadata": {},
   "outputs": [],
   "source": []
  },
  {
   "cell_type": "code",
   "execution_count": null,
   "id": "12fca2a0",
   "metadata": {},
   "outputs": [],
   "source": []
  },
  {
   "cell_type": "code",
   "execution_count": null,
   "id": "2093a4c8",
   "metadata": {},
   "outputs": [],
   "source": []
  },
  {
   "cell_type": "code",
   "execution_count": null,
   "id": "09357c1f",
   "metadata": {},
   "outputs": [],
   "source": []
  },
  {
   "cell_type": "markdown",
   "id": "36d50ba9",
   "metadata": {},
   "source": [
    "## Day 25"
   ]
  },
  {
   "cell_type": "code",
   "execution_count": 12,
   "id": "826cef0b",
   "metadata": {},
   "outputs": [],
   "source": [
    "def get_east_moves_mask(arr):\n",
    "    return (arr == '>') & (np.roll(arr, -1, axis=1) == '.')\n",
    "\n",
    "def get_south_move_mask(arr):\n",
    "     return (arr == 'v') & (np.roll(arr, -1, axis=0) == '.')\n",
    "\n",
    "def shift_east(arr):\n",
    "    mask = get_east_moves_mask(arr)\n",
    "    arr = np.where(np.roll(mask, 1, axis=1), np.roll(arr, 1, axis=1), arr)\n",
    "    arr[mask] = '.'\n",
    "    return arr\n",
    "\n",
    "def shift_south(arr):\n",
    "    mask = get_south_move_mask(arr)\n",
    "    arr = np.where(np.roll(mask, 1, axis=0), np.roll(arr, 1, axis=0), arr)\n",
    "    arr[mask] = '.'\n",
    "    return arr\n",
    "\n",
    "def shift_elements(arr):\n",
    "    arr = shift_east(arr)\n",
    "    arr = shift_south(arr)\n",
    "    return arr\n",
    "\n",
    "def arrs_equal(arr1, arr2):\n",
    "    return np.all(arr1 == arr2)"
   ]
  },
  {
   "cell_type": "markdown",
   "id": "2c06b65a",
   "metadata": {},
   "source": [
    "### Part 1"
   ]
  },
  {
   "cell_type": "code",
   "execution_count": 13,
   "id": "ec05d10b",
   "metadata": {},
   "outputs": [
    {
     "data": {
      "text/plain": [
       "520"
      ]
     },
     "execution_count": 13,
     "metadata": {},
     "output_type": "execute_result"
    }
   ],
   "source": [
    "data = get_input_data(25, year=2021)\n",
    "A = np.array([list(x) for x in data.split('\\n')])\n",
    "valid_moves = True\n",
    "step = 1\n",
    "\n",
    "while valid_moves:\n",
    "    A_new = shift_elements(A)\n",
    "    valid_moves = not arrs_equal(A, A_new)\n",
    "    if valid_moves:\n",
    "        A = A_new\n",
    "        step += 1\n",
    "\n",
    "step"
   ]
  },
  {
   "cell_type": "code",
   "execution_count": null,
   "id": "ae4ece18",
   "metadata": {},
   "outputs": [],
   "source": []
  }
 ],
 "metadata": {
  "kernelspec": {
   "display_name": "Python 3 (ipykernel)",
   "language": "python",
   "name": "python3"
  },
  "language_info": {
   "codemirror_mode": {
    "name": "ipython",
    "version": 3
   },
   "file_extension": ".py",
   "mimetype": "text/x-python",
   "name": "python",
   "nbconvert_exporter": "python",
   "pygments_lexer": "ipython3",
   "version": "3.10.0"
  }
 },
 "nbformat": 4,
 "nbformat_minor": 5
}
