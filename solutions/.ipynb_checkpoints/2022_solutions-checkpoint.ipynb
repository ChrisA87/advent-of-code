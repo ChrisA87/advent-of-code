{
 "cells": [
  {
   "cell_type": "markdown",
   "id": "b3d6341e",
   "metadata": {},
   "source": [
    "# Advent of Code 2022 Solutions"
   ]
  },
  {
   "cell_type": "code",
   "execution_count": 1,
   "id": "83e4be29",
   "metadata": {},
   "outputs": [],
   "source": [
    "import pandas as pd\n",
    "from aoc import get_input_data"
   ]
  },
  {
   "cell_type": "markdown",
   "id": "65ea7913",
   "metadata": {},
   "source": [
    "## Day 1"
   ]
  },
  {
   "cell_type": "code",
   "execution_count": 2,
   "id": "d15e58d0",
   "metadata": {},
   "outputs": [
    {
     "name": "stdout",
     "output_type": "stream",
     "text": [
      "70698\n",
      "206643\n"
     ]
    }
   ],
   "source": [
    "data = get_input_data(1)\n",
    "\n",
    "s = pd.Series([sum(map(int, chunk.split('\\n'))) for chunk in data.split('\\n\\n')])\n",
    "\n",
    "# Part 1\n",
    "print(s.max())\n",
    "\n",
    "# Part 2\n",
    "print(s.nlargest(3).sum())"
   ]
  },
  {
   "cell_type": "markdown",
   "id": "b89a9868",
   "metadata": {},
   "source": [
    "## Day 2"
   ]
  },
  {
   "cell_type": "code",
   "execution_count": null,
   "id": "1dbbfdd6",
   "metadata": {},
   "outputs": [],
   "source": []
  }
 ],
 "metadata": {
  "kernelspec": {
   "display_name": "Python 3 (ipykernel)",
   "language": "python",
   "name": "python3"
  },
  "language_info": {
   "codemirror_mode": {
    "name": "ipython",
    "version": 3
   },
   "file_extension": ".py",
   "mimetype": "text/x-python",
   "name": "python",
   "nbconvert_exporter": "python",
   "pygments_lexer": "ipython3",
   "version": "3.10.0"
  }
 },
 "nbformat": 4,
 "nbformat_minor": 5
}
