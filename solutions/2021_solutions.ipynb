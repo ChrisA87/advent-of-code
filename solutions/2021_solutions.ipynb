{
 "cells": [
  {
   "cell_type": "markdown",
   "id": "ea03b3ca",
   "metadata": {},
   "source": [
    "# Advent of Code 2021 Solutions"
   ]
  },
  {
   "cell_type": "code",
   "execution_count": 1,
   "id": "7dad9048",
   "metadata": {},
   "outputs": [],
   "source": [
    "import pandas as pd\n",
    "import numpy as np\n",
    "from aoc import get_input_data"
   ]
  },
  {
   "cell_type": "markdown",
   "id": "b9696699",
   "metadata": {},
   "source": [
    "---\n",
    "## Day 1"
   ]
  },
  {
   "cell_type": "markdown",
   "id": "6e465113",
   "metadata": {},
   "source": [
    "### part 1"
   ]
  },
  {
   "cell_type": "code",
   "execution_count": 2,
   "id": "ac03d304",
   "metadata": {},
   "outputs": [
    {
     "data": {
      "text/plain": [
       "1121"
      ]
     },
     "execution_count": 2,
     "metadata": {},
     "output_type": "execute_result"
    }
   ],
   "source": [
    "data = get_input_data(1, year=2021)\n",
    "data = list(map(int, data.split('\\n')))\n",
    "\n",
    "prev = np.inf\n",
    "count = 0\n",
    "\n",
    "for x in data:\n",
    "    if x > prev:\n",
    "        count += 1\n",
    "    prev = x\n",
    "count"
   ]
  },
  {
   "cell_type": "markdown",
   "id": "980989b0",
   "metadata": {},
   "source": [
    "### part 2"
   ]
  },
  {
   "cell_type": "code",
   "execution_count": 3,
   "id": "3e40af70",
   "metadata": {},
   "outputs": [
    {
     "data": {
      "text/plain": [
       "1065"
      ]
     },
     "execution_count": 3,
     "metadata": {},
     "output_type": "execute_result"
    }
   ],
   "source": [
    "prev = np.inf\n",
    "count = 0\n",
    "stride = 3\n",
    "\n",
    "for i in range(len(data) - stride + 1):\n",
    "    depths = data[i:i + stride]\n",
    "    total = sum(depths)\n",
    "    if total > prev:\n",
    "        count += 1\n",
    "    prev = total\n",
    "count"
   ]
  },
  {
   "cell_type": "markdown",
   "id": "3805c432",
   "metadata": {},
   "source": [
    "---\n",
    "## Day 2"
   ]
  },
  {
   "cell_type": "markdown",
   "id": "fe7bea0f",
   "metadata": {},
   "source": [
    "### part 1"
   ]
  },
  {
   "cell_type": "code",
   "execution_count": 4,
   "id": "41770075",
   "metadata": {},
   "outputs": [
    {
     "name": "stdout",
     "output_type": "stream",
     "text": [
      "1855814\n"
     ]
    }
   ],
   "source": [
    "data = get_input_data(2, year=2021)\n",
    "data\n",
    "\n",
    "data = data.split('\\n')\n",
    "\n",
    "x = 0\n",
    "y = 0\n",
    "\n",
    "for step in data:\n",
    "    direction, val = step.split()\n",
    "    val = int(val)\n",
    "    \n",
    "    if direction == 'forward':\n",
    "        x += val\n",
    "    elif direction == 'down':\n",
    "        y += val\n",
    "    elif direction == 'up':\n",
    "        y -= val\n",
    "print(x * y)"
   ]
  },
  {
   "cell_type": "markdown",
   "id": "9cb2d5ea",
   "metadata": {},
   "source": [
    "```\n",
    "down X increases your aim by X units.\n",
    "up X decreases your aim by X units.\n",
    "forward X does two things:\n",
    "It increases your horizontal position by X units.\n",
    "It increases your depth by your aim multiplied by X.\n",
    "```"
   ]
  },
  {
   "cell_type": "markdown",
   "id": "2caa5020",
   "metadata": {},
   "source": [
    "### part 2"
   ]
  },
  {
   "cell_type": "code",
   "execution_count": 5,
   "id": "db7ec7ab",
   "metadata": {},
   "outputs": [
    {
     "name": "stdout",
     "output_type": "stream",
     "text": [
      "1845455714\n"
     ]
    }
   ],
   "source": [
    "x = 0\n",
    "y = 0\n",
    "aim = 0\n",
    "\n",
    "for step in data:\n",
    "    direction, val = step.split()\n",
    "    val = int(val)\n",
    "    \n",
    "    if direction == 'forward':\n",
    "        x += val\n",
    "        y += val * aim\n",
    "    elif direction == 'down':\n",
    "        aim += val\n",
    "    elif direction == 'up':\n",
    "        aim -= val\n",
    "print(x * y)"
   ]
  },
  {
   "cell_type": "markdown",
   "id": "e261425d",
   "metadata": {},
   "source": [
    "---\n",
    "## Day 3"
   ]
  },
  {
   "cell_type": "code",
   "execution_count": 6,
   "id": "d5f7af92",
   "metadata": {},
   "outputs": [],
   "source": [
    "from collections import Counter"
   ]
  },
  {
   "cell_type": "code",
   "execution_count": 7,
   "id": "9092baf2",
   "metadata": {},
   "outputs": [],
   "source": [
    "data = get_input_data(3, year=2021)\n",
    "data = data.split('\\n')\n"
   ]
  },
  {
   "cell_type": "markdown",
   "id": "33a632d6",
   "metadata": {},
   "source": [
    "### part 1"
   ]
  },
  {
   "cell_type": "code",
   "execution_count": 8,
   "id": "5625f810",
   "metadata": {},
   "outputs": [
    {
     "data": {
      "text/plain": [
       "2498354"
      ]
     },
     "execution_count": 8,
     "metadata": {},
     "output_type": "execute_result"
    }
   ],
   "source": [
    "gamma = ''\n",
    "epsilon = ''\n",
    "\n",
    "for digits in zip(*data):\n",
    "    counts = Counter(digits)\n",
    "    (g, _), (e, _) = counts.most_common()\n",
    "    gamma += g\n",
    "    epsilon += e\n",
    "\n",
    "result = int(gamma, 2) * int(epsilon, 2)\n",
    "result"
   ]
  },
  {
   "cell_type": "code",
   "execution_count": 9,
   "id": "ff780fca",
   "metadata": {},
   "outputs": [],
   "source": [
    "def filter_data(data, position, value):\n",
    "    return [x for x in data if x[position] == value]"
   ]
  },
  {
   "cell_type": "markdown",
   "id": "b496697f",
   "metadata": {},
   "source": [
    "### Part 2"
   ]
  },
  {
   "cell_type": "code",
   "execution_count": 10,
   "id": "514f7272",
   "metadata": {},
   "outputs": [
    {
     "data": {
      "text/plain": [
       "3921"
      ]
     },
     "execution_count": 10,
     "metadata": {},
     "output_type": "execute_result"
    }
   ],
   "source": [
    "result = data[:]\n",
    "\n",
    "for position in range(len(data[0])):\n",
    "    digits = [x[position] for x in result]\n",
    "    counts = Counter(digits)\n",
    "    (oxygen, oxygen_count), (scrubber, scrubber_count) = counts.most_common()\n",
    "    if oxygen_count == scrubber_count:\n",
    "        oxygen = '1'\n",
    "    result = filter_data(result, position, oxygen)\n",
    "    if len(result) == 1:\n",
    "        break\n",
    "\n",
    "o = int(result[0], 2)\n",
    "o\n"
   ]
  },
  {
   "cell_type": "code",
   "execution_count": 11,
   "id": "bf4e9002",
   "metadata": {},
   "outputs": [
    {
     "data": {
      "text/plain": [
       "3277956"
      ]
     },
     "execution_count": 11,
     "metadata": {},
     "output_type": "execute_result"
    }
   ],
   "source": [
    "result = data[:]\n",
    "\n",
    "for position in range(len(data[0])):\n",
    "    digits = [x[position] for x in result]\n",
    "    counts = Counter(digits)\n",
    "    (oxygen, oxygen_count), (scrubber, scrubber_count) = counts.most_common()\n",
    "    if oxygen_count == scrubber_count:\n",
    "        scrubber = '0'\n",
    "    result = filter_data(result, position, scrubber)\n",
    "    if len(result) == 1:\n",
    "        break\n",
    "\n",
    "s = int(result[0], 2)\n",
    "o * s\n"
   ]
  },
  {
   "cell_type": "markdown",
   "id": "10b8a9cb",
   "metadata": {},
   "source": [
    "---\n",
    "\n",
    "## Day 4\n",
    "### Part 1"
   ]
  },
  {
   "cell_type": "code",
   "execution_count": 12,
   "id": "d61a4cc0",
   "metadata": {},
   "outputs": [],
   "source": [
    "data = get_input_data(4, year=2021)\n"
   ]
  },
  {
   "cell_type": "code",
   "execution_count": 13,
   "id": "12fca2a0",
   "metadata": {},
   "outputs": [],
   "source": [
    "# Process data\n",
    "numbers, *boards = data.split('\\n\\n')\n",
    "\n",
    "numbers = list(map(int, numbers.split(',')))\n",
    "boards = np.array([[list(map(int, y.split()))\n",
    "                    for y in x.split('\\n')]\n",
    "                   for x in boards])\n"
   ]
  },
  {
   "cell_type": "code",
   "execution_count": 14,
   "id": "558de234",
   "metadata": {},
   "outputs": [],
   "source": [
    "def mark_results(boards, results, number):\n",
    "    results[boards == number] = 1\n",
    "    return results\n",
    "\n",
    "def check_winner(boards, results):\n",
    "    full_row = results.all(axis=-1)\n",
    "    full_column = np.transpose(results, axes=(0, 2, 1)).all(axis=-1)\n",
    "\n",
    "    if full_row.any():\n",
    "        mask = full_row.any(axis=-1)\n",
    "        return boards[mask], results[mask]\n",
    "    \n",
    "    if full_column.any():\n",
    "        mask = full_column.any(axis=-1)\n",
    "        return boards[mask], results[mask]\n",
    "\n",
    "    return None\n",
    "\n",
    "def sum_of_unmarked(board, result):\n",
    "    return board[result == 0].sum()\n"
   ]
  },
  {
   "cell_type": "code",
   "execution_count": 15,
   "id": "c421b92b",
   "metadata": {},
   "outputs": [
    {
     "data": {
      "text/plain": [
       "2745"
      ]
     },
     "execution_count": 15,
     "metadata": {},
     "output_type": "execute_result"
    }
   ],
   "source": [
    "results = np.zeros(boards.shape)\n",
    "score = 0\n",
    "\n",
    "for n in numbers:\n",
    "    results = mark_results(boards, results, n)\n",
    "    winner = check_winner(boards, results)\n",
    "    if winner:\n",
    "        board, mask = winner\n",
    "        score = sum_of_unmarked(board, mask) * n\n",
    "        break\n",
    "\n",
    "score\n"
   ]
  },
  {
   "cell_type": "markdown",
   "id": "3da77261",
   "metadata": {},
   "source": [
    "### Part 2"
   ]
  },
  {
   "cell_type": "code",
   "execution_count": 16,
   "id": "0a3f5510",
   "metadata": {},
   "outputs": [],
   "source": [
    "def remove_board(boards, results, objs):\n",
    "    for obj in objs:\n",
    "        mask = (boards == obj).all(axis=(1, 2))\n",
    "        boards = np.delete(boards, mask, axis=0)\n",
    "        results = np.delete(results, mask, axis=0)\n",
    "    return boards, results"
   ]
  },
  {
   "cell_type": "code",
   "execution_count": 17,
   "id": "6f8bcb74",
   "metadata": {},
   "outputs": [
    {
     "data": {
      "text/plain": [
       "6594"
      ]
     },
     "execution_count": 17,
     "metadata": {},
     "output_type": "execute_result"
    }
   ],
   "source": [
    "boards_ = boards.copy()\n",
    "results = np.zeros(boards_.shape)\n",
    "score = 0\n",
    "\n",
    "for n in numbers:\n",
    "    results = mark_results(boards_, results, n)\n",
    "    winner = check_winner(boards_, results)\n",
    "    if winner:\n",
    "        board, mask = winner\n",
    "        if len(boards_) > 1:\n",
    "            boards_, results = remove_board(boards_, results, board)\n",
    "        else:\n",
    "            score = sum_of_unmarked(board, mask) * n\n",
    "            break\n",
    "\n",
    "score"
   ]
  },
  {
   "cell_type": "code",
   "execution_count": null,
   "id": "61f527e9",
   "metadata": {},
   "outputs": [],
   "source": []
  },
  {
   "cell_type": "code",
   "execution_count": null,
   "id": "a8b6e6a6",
   "metadata": {},
   "outputs": [],
   "source": []
  },
  {
   "cell_type": "code",
   "execution_count": null,
   "id": "20bc8558",
   "metadata": {},
   "outputs": [],
   "source": []
  },
  {
   "cell_type": "code",
   "execution_count": null,
   "id": "4635e5d8",
   "metadata": {},
   "outputs": [],
   "source": []
  },
  {
   "cell_type": "code",
   "execution_count": null,
   "id": "05e26230",
   "metadata": {},
   "outputs": [],
   "source": []
  },
  {
   "cell_type": "code",
   "execution_count": null,
   "id": "636d12cd",
   "metadata": {},
   "outputs": [],
   "source": []
  },
  {
   "cell_type": "markdown",
   "id": "9bff2256",
   "metadata": {},
   "source": [
    "---"
   ]
  },
  {
   "cell_type": "markdown",
   "id": "36d50ba9",
   "metadata": {},
   "source": [
    "## Day 25"
   ]
  },
  {
   "cell_type": "code",
   "execution_count": 18,
   "id": "826cef0b",
   "metadata": {},
   "outputs": [],
   "source": [
    "def get_move_mask(arr, direction, axis):\n",
    "    if direction not in ('>', 'v'):\n",
    "        raise ValueError('direction must be one of [\">\", \"v\"]')\n",
    "    return (arr == direction) & (np.roll(arr, -1, axis=axis) == '.')\n",
    "\n",
    "\n",
    "def shift(arr, direction, axis):\n",
    "    mask = get_move_mask(arr, direction, axis)\n",
    "    arr = np.where(np.roll(mask, 1, axis=axis), np.roll(arr, 1, axis=axis), arr)\n",
    "    arr[mask] = '.'\n",
    "    return arr\n",
    "\n",
    "\n",
    "def step_shift(arr):\n",
    "    arr = shift(arr, '>', 1)\n",
    "    arr = shift(arr, 'v', 0)\n",
    "    return arr\n",
    "\n",
    "\n",
    "def arrays_equal(arr1, arr2):\n",
    "    return np.all(arr1 == arr2)\n"
   ]
  },
  {
   "cell_type": "markdown",
   "id": "2c06b65a",
   "metadata": {},
   "source": [
    "### Part 1"
   ]
  },
  {
   "cell_type": "code",
   "execution_count": 19,
   "id": "ec05d10b",
   "metadata": {},
   "outputs": [
    {
     "data": {
      "text/plain": [
       "520"
      ]
     },
     "execution_count": 19,
     "metadata": {},
     "output_type": "execute_result"
    }
   ],
   "source": [
    "data = get_input_data(25, year=2021)\n",
    "A = np.array([list(x) for x in data.split('\\n')])\n",
    "valid_moves = True\n",
    "step = 1\n",
    "\n",
    "while valid_moves:\n",
    "    A_new = step_shift(A)\n",
    "    valid_moves = not arrays_equal(A, A_new)\n",
    "    if valid_moves:\n",
    "        A = A_new\n",
    "        step += 1\n",
    "\n",
    "step"
   ]
  },
  {
   "cell_type": "code",
   "execution_count": null,
   "id": "ae4ece18",
   "metadata": {},
   "outputs": [],
   "source": []
  }
 ],
 "metadata": {
  "kernelspec": {
   "display_name": "Python 3 (ipykernel)",
   "language": "python",
   "name": "python3"
  },
  "language_info": {
   "codemirror_mode": {
    "name": "ipython",
    "version": 3
   },
   "file_extension": ".py",
   "mimetype": "text/x-python",
   "name": "python",
   "nbconvert_exporter": "python",
   "pygments_lexer": "ipython3",
   "version": "3.10.0"
  }
 },
 "nbformat": 4,
 "nbformat_minor": 5
}
