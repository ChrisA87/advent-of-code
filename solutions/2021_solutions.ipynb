{
 "cells": [
  {
   "cell_type": "markdown",
   "id": "ea03b3ca",
   "metadata": {},
   "source": [
    "# Advent of Code 2021 Solutions"
   ]
  },
  {
   "cell_type": "code",
   "execution_count": 1,
   "id": "7dad9048",
   "metadata": {},
   "outputs": [],
   "source": [
    "import pandas as pd\n",
    "import numpy as np\n",
    "from aoc import get_input_data"
   ]
  },
  {
   "cell_type": "markdown",
   "id": "b9696699",
   "metadata": {},
   "source": [
    "---\n",
    "## Day 1"
   ]
  },
  {
   "cell_type": "markdown",
   "id": "6e465113",
   "metadata": {},
   "source": [
    "### part 1"
   ]
  },
  {
   "cell_type": "code",
   "execution_count": 2,
   "id": "ac03d304",
   "metadata": {},
   "outputs": [
    {
     "data": {
      "text/plain": [
       "1121"
      ]
     },
     "execution_count": 2,
     "metadata": {},
     "output_type": "execute_result"
    }
   ],
   "source": [
    "data = get_input_data(1, year=2021)\n",
    "data = list(map(int, data.split('\\n')))\n",
    "\n",
    "prev = np.inf\n",
    "count = 0\n",
    "\n",
    "for x in data:\n",
    "    if x > prev:\n",
    "        count += 1\n",
    "    prev = x\n",
    "count"
   ]
  },
  {
   "cell_type": "markdown",
   "id": "980989b0",
   "metadata": {},
   "source": [
    "### part 2"
   ]
  },
  {
   "cell_type": "code",
   "execution_count": 3,
   "id": "3e40af70",
   "metadata": {},
   "outputs": [
    {
     "data": {
      "text/plain": [
       "1065"
      ]
     },
     "execution_count": 3,
     "metadata": {},
     "output_type": "execute_result"
    }
   ],
   "source": [
    "prev = np.inf\n",
    "count = 0\n",
    "stride = 3\n",
    "\n",
    "for i in range(len(data) - stride + 1):\n",
    "    depths = data[i:i + stride]\n",
    "    total = sum(depths)\n",
    "    if total > prev:\n",
    "        count += 1\n",
    "    prev = total\n",
    "count"
   ]
  },
  {
   "cell_type": "markdown",
   "id": "3805c432",
   "metadata": {},
   "source": [
    "---\n",
    "## Day 2"
   ]
  },
  {
   "cell_type": "markdown",
   "id": "fe7bea0f",
   "metadata": {},
   "source": [
    "### part 1"
   ]
  },
  {
   "cell_type": "code",
   "execution_count": 4,
   "id": "41770075",
   "metadata": {},
   "outputs": [
    {
     "name": "stdout",
     "output_type": "stream",
     "text": [
      "1855814\n"
     ]
    }
   ],
   "source": [
    "data = get_input_data(2, year=2021)\n",
    "data\n",
    "\n",
    "data = data.split('\\n')\n",
    "\n",
    "x = 0\n",
    "y = 0\n",
    "\n",
    "for step in data:\n",
    "    direction, val = step.split()\n",
    "    val = int(val)\n",
    "    \n",
    "    if direction == 'forward':\n",
    "        x += val\n",
    "    elif direction == 'down':\n",
    "        y += val\n",
    "    elif direction == 'up':\n",
    "        y -= val\n",
    "print(x * y)"
   ]
  },
  {
   "cell_type": "markdown",
   "id": "9cb2d5ea",
   "metadata": {},
   "source": [
    "```\n",
    "down X increases your aim by X units.\n",
    "up X decreases your aim by X units.\n",
    "forward X does two things:\n",
    "It increases your horizontal position by X units.\n",
    "It increases your depth by your aim multiplied by X.\n",
    "```"
   ]
  },
  {
   "cell_type": "markdown",
   "id": "2caa5020",
   "metadata": {},
   "source": [
    "### part 2"
   ]
  },
  {
   "cell_type": "code",
   "execution_count": 5,
   "id": "db7ec7ab",
   "metadata": {},
   "outputs": [
    {
     "name": "stdout",
     "output_type": "stream",
     "text": [
      "1845455714\n"
     ]
    }
   ],
   "source": [
    "x = 0\n",
    "y = 0\n",
    "aim = 0\n",
    "\n",
    "for step in data:\n",
    "    direction, val = step.split()\n",
    "    val = int(val)\n",
    "    \n",
    "    if direction == 'forward':\n",
    "        x += val\n",
    "        y += val * aim\n",
    "    elif direction == 'down':\n",
    "        aim += val\n",
    "    elif direction == 'up':\n",
    "        aim -= val\n",
    "print(x * y)"
   ]
  },
  {
   "cell_type": "markdown",
   "id": "e261425d",
   "metadata": {},
   "source": [
    "---\n",
    "## Day 3"
   ]
  },
  {
   "cell_type": "code",
   "execution_count": 6,
   "id": "d5f7af92",
   "metadata": {},
   "outputs": [],
   "source": [
    "from collections import Counter"
   ]
  },
  {
   "cell_type": "code",
   "execution_count": 7,
   "id": "9092baf2",
   "metadata": {},
   "outputs": [],
   "source": [
    "data = get_input_data(3, year=2021)\n",
    "data = data.split('\\n')\n"
   ]
  },
  {
   "cell_type": "markdown",
   "id": "33a632d6",
   "metadata": {},
   "source": [
    "### part 1"
   ]
  },
  {
   "cell_type": "code",
   "execution_count": 8,
   "id": "5625f810",
   "metadata": {},
   "outputs": [
    {
     "data": {
      "text/plain": [
       "2498354"
      ]
     },
     "execution_count": 8,
     "metadata": {},
     "output_type": "execute_result"
    }
   ],
   "source": [
    "gamma = ''\n",
    "epsilon = ''\n",
    "\n",
    "for digits in zip(*data):\n",
    "    counts = Counter(digits)\n",
    "    (g, _), (e, _) = counts.most_common()\n",
    "    gamma += g\n",
    "    epsilon += e\n",
    "\n",
    "result = int(gamma, 2) * int(epsilon, 2)\n",
    "result"
   ]
  },
  {
   "cell_type": "code",
   "execution_count": 9,
   "id": "ff780fca",
   "metadata": {},
   "outputs": [],
   "source": [
    "def filter_data(data, position, value):\n",
    "    return [x for x in data if x[position] == value]"
   ]
  },
  {
   "cell_type": "markdown",
   "id": "b496697f",
   "metadata": {},
   "source": [
    "### Part 2"
   ]
  },
  {
   "cell_type": "code",
   "execution_count": 10,
   "id": "514f7272",
   "metadata": {},
   "outputs": [
    {
     "data": {
      "text/plain": [
       "3921"
      ]
     },
     "execution_count": 10,
     "metadata": {},
     "output_type": "execute_result"
    }
   ],
   "source": [
    "result = data[:]\n",
    "\n",
    "for position in range(len(data[0])):\n",
    "    digits = [x[position] for x in result]\n",
    "    counts = Counter(digits)\n",
    "    (oxygen, oxygen_count), (scrubber, scrubber_count) = counts.most_common()\n",
    "    if oxygen_count == scrubber_count:\n",
    "        oxygen = '1'\n",
    "    result = filter_data(result, position, oxygen)\n",
    "    if len(result) == 1:\n",
    "        break\n",
    "\n",
    "o = int(result[0], 2)\n",
    "o\n"
   ]
  },
  {
   "cell_type": "code",
   "execution_count": 11,
   "id": "bf4e9002",
   "metadata": {},
   "outputs": [
    {
     "data": {
      "text/plain": [
       "3277956"
      ]
     },
     "execution_count": 11,
     "metadata": {},
     "output_type": "execute_result"
    }
   ],
   "source": [
    "result = data[:]\n",
    "\n",
    "for position in range(len(data[0])):\n",
    "    digits = [x[position] for x in result]\n",
    "    counts = Counter(digits)\n",
    "    (oxygen, oxygen_count), (scrubber, scrubber_count) = counts.most_common()\n",
    "    if oxygen_count == scrubber_count:\n",
    "        scrubber = '0'\n",
    "    result = filter_data(result, position, scrubber)\n",
    "    if len(result) == 1:\n",
    "        break\n",
    "\n",
    "s = int(result[0], 2)\n",
    "o * s\n"
   ]
  },
  {
   "cell_type": "markdown",
   "id": "10b8a9cb",
   "metadata": {},
   "source": [
    "---\n",
    "\n",
    "## Day 4\n",
    "### Part 1"
   ]
  },
  {
   "cell_type": "code",
   "execution_count": 12,
   "id": "d1b1eeac",
   "metadata": {},
   "outputs": [],
   "source": [
    "data = get_input_data(4, year=2021)\n"
   ]
  },
  {
   "cell_type": "code",
   "execution_count": 13,
   "id": "12fca2a0",
   "metadata": {},
   "outputs": [],
   "source": [
    "# Process data\n",
    "numbers, *boards = data.split('\\n\\n')\n",
    "\n",
    "numbers = list(map(int, numbers.split(',')))\n",
    "boards = np.array([[list(map(int, y.split()))\n",
    "                    for y in x.split('\\n')]\n",
    "                   for x in boards])\n"
   ]
  },
  {
   "cell_type": "code",
   "execution_count": 14,
   "id": "2a1e5358",
   "metadata": {},
   "outputs": [],
   "source": [
    "def mark_results(boards, results, number):\n",
    "    results[boards == number] = 1\n",
    "    return results\n",
    "\n",
    "def check_winner(boards, results):\n",
    "    full_row = results.all(axis=-1)\n",
    "    full_column = np.transpose(results, axes=(0, 2, 1)).all(axis=-1)\n",
    "\n",
    "    if full_row.any():\n",
    "        mask = full_row.any(axis=-1)\n",
    "        return boards[mask], results[mask]\n",
    "    \n",
    "    if full_column.any():\n",
    "        mask = full_column.any(axis=-1)\n",
    "        return boards[mask], results[mask]\n",
    "\n",
    "    return None\n",
    "\n",
    "def sum_of_unmarked(board, result):\n",
    "    return board[result == 0].sum()\n"
   ]
  },
  {
   "cell_type": "code",
   "execution_count": 15,
   "id": "37792af0",
   "metadata": {},
   "outputs": [
    {
     "data": {
      "text/plain": [
       "2745"
      ]
     },
     "execution_count": 15,
     "metadata": {},
     "output_type": "execute_result"
    }
   ],
   "source": [
    "results = np.zeros(boards.shape)\n",
    "score = 0\n",
    "\n",
    "for n in numbers:\n",
    "    results = mark_results(boards, results, n)\n",
    "    winner = check_winner(boards, results)\n",
    "    if winner:\n",
    "        board, mask = winner\n",
    "        score = sum_of_unmarked(board, mask) * n\n",
    "        break\n",
    "\n",
    "score\n"
   ]
  },
  {
   "cell_type": "markdown",
   "id": "6f3d89de",
   "metadata": {},
   "source": [
    "### Part 2"
   ]
  },
  {
   "cell_type": "code",
   "execution_count": 16,
   "id": "ba60bcff",
   "metadata": {},
   "outputs": [],
   "source": [
    "def remove_board(boards, results, objs):\n",
    "    for obj in objs:\n",
    "        mask = (boards == obj).all(axis=(1, 2))\n",
    "        boards = np.delete(boards, mask, axis=0)\n",
    "        results = np.delete(results, mask, axis=0)\n",
    "    return boards, results"
   ]
  },
  {
   "cell_type": "code",
   "execution_count": 17,
   "id": "065f9f22",
   "metadata": {},
   "outputs": [
    {
     "data": {
      "text/plain": [
       "6594"
      ]
     },
     "execution_count": 17,
     "metadata": {},
     "output_type": "execute_result"
    }
   ],
   "source": [
    "boards_ = boards.copy()\n",
    "results = np.zeros(boards_.shape)\n",
    "score = 0\n",
    "\n",
    "for n in numbers:\n",
    "    results = mark_results(boards_, results, n)\n",
    "    winner = check_winner(boards_, results)\n",
    "    if winner:\n",
    "        board, mask = winner\n",
    "        if len(boards_) > 1:\n",
    "            boards_, results = remove_board(boards_, results, board)\n",
    "        else:\n",
    "            score = sum_of_unmarked(board, mask) * n\n",
    "            break\n",
    "\n",
    "score"
   ]
  },
  {
   "cell_type": "markdown",
   "id": "882a55bb",
   "metadata": {},
   "source": [
    "---\n",
    "\n",
    "## Day 5\n",
    "### Part 1"
   ]
  },
  {
   "cell_type": "code",
   "execution_count": 18,
   "id": "13bc4b98",
   "metadata": {},
   "outputs": [],
   "source": [
    "data = \"\"\"0,9 -> 5,9\n",
    "8,0 -> 0,8\n",
    "9,4 -> 3,4\n",
    "2,2 -> 2,1\n",
    "7,0 -> 7,4\n",
    "6,4 -> 2,0\n",
    "0,9 -> 2,9\n",
    "3,4 -> 1,4\n",
    "0,0 -> 8,8\n",
    "5,5 -> 8,2\"\"\"\n"
   ]
  },
  {
   "cell_type": "markdown",
   "id": "369106bd",
   "metadata": {},
   "source": [
    "> For now, only consider horizontal and vertical lines: lines where either x1 = x2 or y1 = y2."
   ]
  },
  {
   "cell_type": "code",
   "execution_count": 19,
   "id": "b8c906fb",
   "metadata": {},
   "outputs": [],
   "source": [
    "def process_points(points):\n",
    "    points = [tuple(map(int, x.split(','))) for x in points]\n",
    "    return points\n",
    "\n",
    "def process_data(data):\n",
    "    results = []\n",
    "    for line in data.split('\\n'):\n",
    "        points = process_points(line.split(' -> '))\n",
    "        results.append(points)\n",
    "    return results\n",
    "\n",
    "def filter_horizontal_vertical(coords):\n",
    "    results = []\n",
    "    for coord in coords:\n",
    "        (x1, y1), (x2, y2) = coord\n",
    "        if (x1 == x2) or (y1 == y2):\n",
    "            results.append(coord)\n",
    "    return results\n",
    "\n",
    "\n",
    "def generate_diagram(arr):\n",
    "    arr = arr.astype(np.int32).astype(np.object0)\n",
    "    arr[arr == 0] = '.'\n",
    "    result = '\\n'.join([''.join(x) for x in arr.astype(str)])\n",
    "    return result\n"
   ]
  },
  {
   "cell_type": "code",
   "execution_count": 20,
   "id": "b7822f99",
   "metadata": {},
   "outputs": [],
   "source": [
    "data = get_input_data(5, year=2021)"
   ]
  },
  {
   "cell_type": "code",
   "execution_count": 21,
   "id": "a9de8999",
   "metadata": {},
   "outputs": [],
   "source": [
    "coords = process_data(data)\n",
    "coords = filter_horizontal_vertical(coords)"
   ]
  },
  {
   "cell_type": "code",
   "execution_count": 22,
   "id": "84ec4be3",
   "metadata": {},
   "outputs": [
    {
     "data": {
      "text/plain": [
       "4655"
      ]
     },
     "execution_count": 22,
     "metadata": {},
     "output_type": "execute_result"
    }
   ],
   "source": [
    "x_dim = np.array(coords)[:,:,0].max() + 1\n",
    "y_dim = np.array(coords)[:,:,1].max() + 1\n",
    "\n",
    "A = np.zeros((y_dim, x_dim))\n",
    "\n",
    "for (x1, y1), (x2, y2) in coords:\n",
    "\n",
    "    # Vertical Lines\n",
    "    if x1 == x2:\n",
    "        y1, y2 = sorted([y1, y2])\n",
    "        for y in range(y1, y2+1):\n",
    "            A[y, x1] += 1\n",
    "\n",
    "    # Horizontal lines\n",
    "    else:\n",
    "        x1, x2 = sorted([x1, x2])\n",
    "        for x in range(x1, x2+1):\n",
    "            A[y1, x] += 1\n",
    "\n",
    "(A > 1).sum()"
   ]
  },
  {
   "cell_type": "markdown",
   "id": "4a288b32",
   "metadata": {},
   "source": [
    "### Part 2"
   ]
  },
  {
   "cell_type": "code",
   "execution_count": 23,
   "id": "9d4f85ad",
   "metadata": {},
   "outputs": [],
   "source": [
    "coords = process_data(data)"
   ]
  },
  {
   "cell_type": "code",
   "execution_count": 24,
   "id": "dbb4b089",
   "metadata": {},
   "outputs": [
    {
     "data": {
      "text/plain": [
       "20496"
      ]
     },
     "execution_count": 24,
     "metadata": {},
     "output_type": "execute_result"
    }
   ],
   "source": [
    "max_dim = np.array(coords).max() + 1\n",
    "A = np.zeros((max_dim, max_dim))\n",
    "\n",
    "for (x1, y1), (x2, y2) in coords:\n",
    "\n",
    "    # Vertical Lines\n",
    "    if x1 == x2:\n",
    "        y1, y2 = sorted([y1, y2])\n",
    "        for y in range(y1, y2+1):\n",
    "            A[y, x1] += 1\n",
    "\n",
    "    # Horizontal lines\n",
    "    elif y1 == y2:\n",
    "        x1, x2 = sorted([x1, x2])\n",
    "        for x in range(x1, x2+1):\n",
    "            A[y1, x] += 1\n",
    "    \n",
    "    # Diagonal lines\n",
    "    else:\n",
    "        m = (y2 - y1) / (x2 - x1)\n",
    "        if m < 0:\n",
    "            x_start = max([x1, x2])\n",
    "            x_end = min([x1, x2])\n",
    "            y_start = min([y1, y2])\n",
    "            steps = abs(x_end - x_start)\n",
    "\n",
    "            for i in range(steps + 1):\n",
    "                x = x_start - i\n",
    "                y = y_start + i\n",
    "                A[x, y] += 1\n",
    "        else:\n",
    "            x_start = min([x1, x2])\n",
    "            x_end = max([x1, x2])\n",
    "            y_start = min([y1, y2])\n",
    "            y_end = max([y1, y2])\n",
    "            steps = abs(x_end - x_start)\n",
    "\n",
    "            for i in range(steps + 1):\n",
    "                x = x_start + i\n",
    "                y = y_start + i\n",
    "                A[x, y] += 1\n",
    "\n",
    "(A > 1).sum()"
   ]
  },
  {
   "cell_type": "markdown",
   "id": "c091177b",
   "metadata": {},
   "source": [
    "--- \n",
    "## Day 6\n",
    "### Part 1"
   ]
  },
  {
   "cell_type": "code",
   "execution_count": 25,
   "id": "de462b9e",
   "metadata": {},
   "outputs": [],
   "source": [
    "data = '3,4,3,1,2'\n",
    "data = np.array(list(map(int, data.split(','))))"
   ]
  },
  {
   "cell_type": "code",
   "execution_count": 26,
   "id": "ca8cbf9e",
   "metadata": {},
   "outputs": [],
   "source": [
    "def decrease_timers(data):\n",
    "    data -= 1\n",
    "    return data\n",
    "\n",
    "def check_for_zero(data):\n",
    "    mask = data == 0\n",
    "    if mask.any():\n",
    "        return mask\n",
    "    return None\n",
    "\n",
    "def reset_zero_timers(data, mask, timer=7):\n",
    "    data[mask] = timer\n",
    "    return data\n",
    "\n",
    "def add_new_laternfish(data, mask, timer=9):\n",
    "    n = mask.sum()\n",
    "    data = np.append(data, np.ones(n) * timer)\n",
    "    return data\n",
    "    "
   ]
  },
  {
   "cell_type": "code",
   "execution_count": 27,
   "id": "d5a8cba7",
   "metadata": {},
   "outputs": [],
   "source": [
    "data = get_input_data(6, year=2021)\n",
    "data = np.array(list(map(int, data.split(','))))"
   ]
  },
  {
   "cell_type": "code",
   "execution_count": 28,
   "id": "5f26ddc8",
   "metadata": {},
   "outputs": [
    {
     "name": "stdout",
     "output_type": "stream",
     "text": [
      "CPU times: user 20.2 ms, sys: 10.4 ms, total: 30.6 ms\n",
      "Wall time: 29.2 ms\n"
     ]
    },
    {
     "data": {
      "text/plain": [
       "386755"
      ]
     },
     "execution_count": 28,
     "metadata": {},
     "output_type": "execute_result"
    }
   ],
   "source": [
    "%%time\n",
    "\n",
    "fish = data.copy()\n",
    "\n",
    "for i in range(80):\n",
    "    zeros = check_for_zero(fish)\n",
    "    if zeros is not None:\n",
    "        fish = reset_zero_timers(fish, zeros)\n",
    "        fish = add_new_laternfish(fish, zeros)\n",
    "    fish = decrease_timers(fish)\n",
    "\n",
    "len(fish)"
   ]
  },
  {
   "cell_type": "markdown",
   "id": "ca32e46f",
   "metadata": {},
   "source": [
    "### Part 2\n",
    "\n",
    "The previous niave and extremely inefficient approach does not work (I tried - it hits a serious bottle neck around the 170th loop 😆).\n",
    "So let's try keeping tabs of counts with a `dict`."
   ]
  },
  {
   "cell_type": "code",
   "execution_count": 29,
   "id": "1b9f5d47",
   "metadata": {},
   "outputs": [],
   "source": [
    "from collections import Counter, defaultdict\n",
    "\n",
    "def update_counts(counts):\n",
    "    new_counts = {}\n",
    "    \n",
    "    for i in range(1, len(counts)):\n",
    "        new_counts[i - 1] = counts[i]\n",
    "    new_counts[8] = counts[0]\n",
    "    new_counts[6] += counts[0]\n",
    "\n",
    "    return new_counts"
   ]
  },
  {
   "cell_type": "code",
   "execution_count": 30,
   "id": "687ec827",
   "metadata": {
    "scrolled": false
   },
   "outputs": [
    {
     "name": "stdout",
     "output_type": "stream",
     "text": [
      "CPU times: user 344 µs, sys: 68 µs, total: 412 µs\n",
      "Wall time: 411 µs\n"
     ]
    },
    {
     "data": {
      "text/plain": [
       "1732731810807"
      ]
     },
     "execution_count": 30,
     "metadata": {},
     "output_type": "execute_result"
    }
   ],
   "source": [
    "%%time\n",
    "\n",
    "fish = data.copy()\n",
    "\n",
    "counts = {i: 0 for i in range(9)}\n",
    "counts.update(Counter(fish))\n",
    "\n",
    "for i in range(256):\n",
    "    counts = update_counts(counts)\n",
    "\n",
    "sum(counts.values())"
   ]
  },
  {
   "cell_type": "markdown",
   "id": "14a6876c",
   "metadata": {},
   "source": [
    "## Day 7"
   ]
  },
  {
   "cell_type": "code",
   "execution_count": 31,
   "id": "1497f1a3",
   "metadata": {},
   "outputs": [
    {
     "data": {
      "text/plain": [
       "array([16,  1,  2,  0,  4,  2,  7,  1,  2, 14])"
      ]
     },
     "execution_count": 31,
     "metadata": {},
     "output_type": "execute_result"
    }
   ],
   "source": [
    "data = '16,1,2,0,4,2,7,1,2,14'\n",
    "data = np.array(list(map(int, data.split(','))), dtype=np.int64)\n",
    "data"
   ]
  },
  {
   "cell_type": "markdown",
   "id": "0e59aa50",
   "metadata": {},
   "source": [
    "### Part 1"
   ]
  },
  {
   "cell_type": "code",
   "execution_count": 32,
   "id": "11badb19",
   "metadata": {},
   "outputs": [],
   "source": [
    "data = get_input_data(7, year=2021)\n",
    "data = np.array(list(map(int, data.split(','))), dtype=np.int64)"
   ]
  },
  {
   "cell_type": "code",
   "execution_count": 33,
   "id": "5bbe94a4",
   "metadata": {},
   "outputs": [
    {
     "name": "stdout",
     "output_type": "stream",
     "text": [
      "336701\n",
      "323\n",
      "CPU times: user 5.64 ms, sys: 8.32 ms, total: 14 ms\n",
      "Wall time: 9.68 ms\n"
     ]
    }
   ],
   "source": [
    "%%time\n",
    "\n",
    "m = np.abs(data - data.reshape(-1, 1)).sum(1)\n",
    "\n",
    "position = data[m.argmin()]\n",
    "min_fuel = m.min()\n",
    "\n",
    "print(min_fuel)\n",
    "print(position)"
   ]
  },
  {
   "cell_type": "markdown",
   "id": "742f7f5b",
   "metadata": {},
   "source": [
    "### Part 2"
   ]
  },
  {
   "cell_type": "code",
   "execution_count": 34,
   "id": "e19a4c08",
   "metadata": {},
   "outputs": [
    {
     "name": "stdout",
     "output_type": "stream",
     "text": [
      "CPU times: user 2.89 s, sys: 25.8 ms, total: 2.92 s\n",
      "Wall time: 2.91 s\n"
     ]
    },
    {
     "data": {
      "text/plain": [
       "95167302"
      ]
     },
     "execution_count": 34,
     "metadata": {},
     "output_type": "execute_result"
    }
   ],
   "source": [
    "%%time\n",
    "\n",
    "dists = np.abs(data - np.arange(data.max()+1).reshape(-1, 1))\n",
    "\n",
    "results = []\n",
    "\n",
    "for row in dists:\n",
    "    results.append(sum([np.arange(x+1).sum() for x in row]))\n",
    "\n",
    "min(results)\n"
   ]
  },
  {
   "cell_type": "markdown",
   "id": "31975106",
   "metadata": {},
   "source": [
    "---\n",
    "## Day 8\n"
   ]
  },
  {
   "cell_type": "markdown",
   "id": "4d6edbb7",
   "metadata": {},
   "source": [
    "```\n",
    "  0:      1:      2:      3:      4:\n",
    " aaaa    ....    aaaa    aaaa    ....\n",
    "b    c  .    c  .    c  .    c  b    c\n",
    "b    c  .    c  .    c  .    c  b    c\n",
    " ....    ....    dddd    dddd    dddd\n",
    "e    f  .    f  e    .  .    f  .    f\n",
    "e    f  .    f  e    .  .    f  .    f\n",
    " gggg    ....    gggg    gggg    ....\n",
    "\n",
    "  5:      6:      7:      8:      9:\n",
    " aaaa    aaaa    aaaa    aaaa    aaaa\n",
    "b    .  b    .  .    c  b    c  b    c\n",
    "b    .  b    .  .    c  b    c  b    c\n",
    " dddd    dddd    ....    dddd    dddd\n",
    ".    f  e    f  .    f  e    f  .    f\n",
    ".    f  e    f  .    f  e    f  .    f\n",
    " gggg    gggg    ....    gggg    gggg\n",
    " ```"
   ]
  },
  {
   "cell_type": "code",
   "execution_count": 35,
   "id": "b8462c2d",
   "metadata": {},
   "outputs": [],
   "source": [
    "data = '''be cfbegad cbdgef fgaecd cgeb fdcge agebfd fecdb fabcd edb | fdgacbe cefdb cefbgd gcbe\n",
    "edbfga begcd cbg gc gcadebf fbgde acbgfd abcde gfcbed gfec | fcgedb cgb dgebacf gc\n",
    "fgaebd cg bdaec gdafb agbcfd gdcbef bgcad gfac gcb cdgabef | cg cg fdcagb cbg\n",
    "fbegcd cbd adcefb dageb afcb bc aefdc ecdab fgdeca fcdbega | efabcd cedba gadfec cb\n",
    "aecbfdg fbg gf bafeg dbefa fcge gcbea fcaegb dgceab fcbdga | gecf egdcabf bgf bfgea\n",
    "fgeab ca afcebg bdacfeg cfaedg gcfdb baec bfadeg bafgc acf | gebdcfa ecba ca fadegcb\n",
    "dbcfg fgd bdegcaf fgec aegbdf ecdfab fbedc dacgb gdcebf gf | cefg dcbef fcge gbcadfe\n",
    "bdfegc cbegaf gecbf dfcage bdacg ed bedf ced adcbefg gebcd | ed bcgafe cdgba cbgef\n",
    "egadfb cdbfeg cegd fecab cgb gbdefca cg fgcdab egfdb bfceg | gbdfcae bgc cg cgb\n",
    "gcafb gcf dcaebfg ecagb gf abcdeg gaef cafbge fdbac fegbdc | fgae cfgab fg bagce'''\n"
   ]
  },
  {
   "cell_type": "markdown",
   "id": "63410386",
   "metadata": {},
   "source": [
    "### Part 1"
   ]
  },
  {
   "cell_type": "code",
   "execution_count": 36,
   "id": "c0390108",
   "metadata": {},
   "outputs": [],
   "source": [
    "def process_line(line):\n",
    "    signals, digits = line.split(' | ')\n",
    "    return signals.split(), digits.split()\n",
    "\n",
    "def get_sequence_lens(digits):\n",
    "    return list(map(len, digits))"
   ]
  },
  {
   "cell_type": "code",
   "execution_count": 37,
   "id": "869a0959",
   "metadata": {},
   "outputs": [],
   "source": [
    "data = get_input_data(8, year=2021)"
   ]
  },
  {
   "cell_type": "code",
   "execution_count": 38,
   "id": "17f5c4b9",
   "metadata": {},
   "outputs": [
    {
     "name": "stdout",
     "output_type": "stream",
     "text": [
      "CPU times: user 5.92 ms, sys: 1.39 ms, total: 7.31 ms\n",
      "Wall time: 6.04 ms\n"
     ]
    },
    {
     "data": {
      "text/plain": [
       "245"
      ]
     },
     "execution_count": 38,
     "metadata": {},
     "output_type": "execute_result"
    }
   ],
   "source": [
    "%%time\n",
    "\n",
    "unique_elements = [2, 3, 4, 7]\n",
    "count = 0\n",
    "\n",
    "for line in data.split('\\n'):\n",
    "    signals, digits = process_line(line)\n",
    "    digit_lens = get_sequence_lens(digits)\n",
    "    count += np.isin(digit_lens, unique_elements).sum()\n",
    "\n",
    "count"
   ]
  },
  {
   "cell_type": "markdown",
   "id": "8b88e613",
   "metadata": {},
   "source": [
    "### Part 2"
   ]
  },
  {
   "cell_type": "markdown",
   "id": "047f549e",
   "metadata": {},
   "source": [
    "First find signals or digits of length 2, 3, 4, or 7 to map to the correct digits 1, 7, 4 & 8 respectively"
   ]
  },
  {
   "cell_type": "code",
   "execution_count": 39,
   "id": "3ba0a5b0",
   "metadata": {},
   "outputs": [],
   "source": [
    "def deduce_digit(digit, deduced_from, d, sequences, offset=0):\n",
    "    if d.get(digit) is not None:\n",
    "        return d\n",
    "    keys = {k: d.get(k, set()) for k in deduced_from}\n",
    "    expected_length = expected_lengths.get(digit)\n",
    "    \n",
    "    for element in sequences:\n",
    "        if len(element) == expected_length:\n",
    "            for key, val in keys.items():\n",
    "                set_ = set(element)\n",
    "                diff = set_ - val\n",
    "                if len(diff) + len(val) - offset == expected_length:\n",
    "                    d[digit] = set_\n",
    "                    return d\n",
    "    return d\n",
    "\n",
    "def deduce_digit_from_remaining(digit, d, sequences):\n",
    "    if d.get(digit) is not None:\n",
    "        return d\n",
    "    \n",
    "    seen = d.values()\n",
    "    expected_length = expected_lengths.get(digit)\n",
    "\n",
    "    for element in sequences:\n",
    "        if len(element) == expected_length:\n",
    "            key = set(sorted(element))\n",
    "            if key not in seen:\n",
    "                d[digit] = key\n",
    "                return d\n",
    "    return d\n",
    "\n",
    "def get_segment_map(sequences):\n",
    "    d = {}\n",
    "\n",
    "    # Digits 1, 4, 7 & 8 can be easily deduced due to their unique number of segments\n",
    "    d = deduce_digit(1, [None], d, sequences)\n",
    "    d = deduce_digit(4, [None], d, sequences)\n",
    "    d = deduce_digit(7, [None], d, sequences)\n",
    "    d = deduce_digit(8, [None], d, sequences)\n",
    "\n",
    "    # if 1 or 7 is in the map, we can deduce 3\n",
    "    # 3 will either include all the segments from 1 plus exactly 3 more segments\n",
    "    # or 3 will include all the segments from 7 plus exaclty 2 more segments\n",
    "    d = deduce_digit(3, [1, 7], d, sequences)\n",
    "\n",
    "    # 9 can be deduced if 4 is known\n",
    "    d = deduce_digit(9, [4], d, sequences)\n",
    "\n",
    "    # Middle segment can be deduced from the the segments: 4 ∪ 3 - 1\n",
    "    middle_segment = d[4] & d[3] - d[1]\n",
    "\n",
    "    # 0 can be deduced from 8 - middle_segment\n",
    "    d[0] = d[8] - middle_segment\n",
    "\n",
    "    # 6  can be deduced as the last remaining seq of length 6 which hasn't been seen\n",
    "    d = deduce_digit_from_remaining(6, d, sequences)\n",
    "    \n",
    "    # 5 can be deduced from 6\n",
    "    d = deduce_digit(5, [6], d, sequences, offset=1)\n",
    "    \n",
    "    # 2  can be deduced as the last remaining seq of length 5 which hasn't been seen\n",
    "    d = deduce_digit_from_remaining(2, d, sequences)\n",
    "    \n",
    "    # Swap keys and values\n",
    "    d = {tuple(sorted(v)): k for k, v in d.items()}\n",
    "    return d\n",
    "\n",
    "def get_number_from_segment_map(digits, segment_map):\n",
    "    out = ''\n",
    "    for digit in digits:\n",
    "        key = tuple(sorted(digit))\n",
    "        out += str(segment_map.get(key))\n",
    "    return int(out)"
   ]
  },
  {
   "cell_type": "code",
   "execution_count": 40,
   "id": "09cbeb28",
   "metadata": {},
   "outputs": [
    {
     "name": "stdout",
     "output_type": "stream",
     "text": [
      "CPU times: user 7.31 ms, sys: 100 µs, total: 7.41 ms\n",
      "Wall time: 7.36 ms\n"
     ]
    },
    {
     "data": {
      "text/plain": [
       "983026"
      ]
     },
     "execution_count": 40,
     "metadata": {},
     "output_type": "execute_result"
    }
   ],
   "source": [
    "%%time\n",
    "\n",
    "unique_elements = {2: 1, 3: 7, 4: 4, 7: 8}\n",
    "expected_lengths = {0: 6, 1: 2, 2: 5, 3: 5, 4: 4, 5: 5, 6: 6, 7: 3, 8: 7, 9: 6}\n",
    "\n",
    "result = 0\n",
    "\n",
    "for line in data.split('\\n'):\n",
    "    signals, digits = process_line(line)\n",
    "    segment_map = get_segment_map(signals + digits)\n",
    "    result += get_number_from_segment_map(digits, segment_map)\n",
    "result"
   ]
  },
  {
   "cell_type": "markdown",
   "id": "df7c601c",
   "metadata": {},
   "source": [
    "---\n",
    "## Day 9\n",
    "### Part 1"
   ]
  },
  {
   "cell_type": "code",
   "execution_count": 41,
   "id": "a92b0c0c",
   "metadata": {},
   "outputs": [
    {
     "data": {
      "text/plain": [
       "[[2, 1, 9, 9, 9, 4, 3, 2, 1, 0],\n",
       " [3, 9, 8, 7, 8, 9, 4, 9, 2, 1],\n",
       " [9, 8, 5, 6, 7, 8, 9, 8, 9, 2],\n",
       " [8, 7, 6, 7, 8, 9, 6, 7, 8, 9],\n",
       " [9, 8, 9, 9, 9, 6, 5, 6, 7, 8]]"
      ]
     },
     "execution_count": 41,
     "metadata": {},
     "output_type": "execute_result"
    }
   ],
   "source": [
    "data = \"\"\"2199943210\n",
    "3987894921\n",
    "9856789892\n",
    "8767896789\n",
    "9899965678\"\"\"\n",
    "\n",
    "data = [list(map(int, x)) for x in data.split('\\n')]\n",
    "data"
   ]
  },
  {
   "cell_type": "code",
   "execution_count": 42,
   "id": "69b8ae5e",
   "metadata": {},
   "outputs": [],
   "source": [
    "def get_udlr(data, i, j):\n",
    "    center = data[i][j]\n",
    "    up = down = left = right = np.inf\n",
    "    \n",
    "    if i > 0:\n",
    "        try:\n",
    "            up = data[i-1][j]\n",
    "        except IndexError:\n",
    "            pass\n",
    "    if j > 0:\n",
    "        left = data[i][j-1]\n",
    "    \n",
    "    try:\n",
    "        down = data[i+1][j]\n",
    "    except IndexError:\n",
    "        pass\n",
    "\n",
    "    try:\n",
    "        right = data[i][j+1]\n",
    "    except IndexError:\n",
    "        pass\n",
    "    return center, (up, down, left, right)\n",
    "\n",
    "def is_low_point(val, adj_points):\n",
    "    return val < min(adj_points)\n",
    "\n",
    "def calculate_risk(low_points):\n",
    "    return sum(low_points) + len(low_points)\n"
   ]
  },
  {
   "cell_type": "code",
   "execution_count": 43,
   "id": "7ae3b1ac",
   "metadata": {},
   "outputs": [],
   "source": [
    "data = get_input_data(9, year=2021)\n",
    "data = [list(map(int, x)) for x in data.split('\\n')]"
   ]
  },
  {
   "cell_type": "code",
   "execution_count": 44,
   "id": "885ce178",
   "metadata": {},
   "outputs": [
    {
     "name": "stdout",
     "output_type": "stream",
     "text": [
      "CPU times: user 17.2 ms, sys: 653 µs, total: 17.8 ms\n",
      "Wall time: 18 ms\n"
     ]
    },
    {
     "data": {
      "text/plain": [
       "480"
      ]
     },
     "execution_count": 44,
     "metadata": {},
     "output_type": "execute_result"
    }
   ],
   "source": [
    "%%time\n",
    "\n",
    "low_points = []\n",
    "low_point_coords = []\n",
    "\n",
    "for i, row in enumerate(data):\n",
    "    for j, col in enumerate(row):\n",
    "        val, adj_points = get_udlr(data, i, j)\n",
    "        if is_low_point(val, adj_points):\n",
    "            low_points.append(val)\n",
    "            low_point_coords.append((i, j))\n",
    "\n",
    "calculate_risk(low_points)"
   ]
  },
  {
   "cell_type": "markdown",
   "id": "b1455b79",
   "metadata": {},
   "source": [
    "### Part 2\n",
    "\n",
    "Looks like [flood fill](https://en.wikipedia.org/wiki/Flood_fill) can be applied here.\n",
    "We've already captured the coords of low points in part 1, so lets iterate over them and run an adapted flood fill to find the basins."
   ]
  },
  {
   "cell_type": "code",
   "execution_count": 45,
   "id": "fed0b5f0",
   "metadata": {},
   "outputs": [],
   "source": [
    "def within_bounds(coord, data):\n",
    "    n_rows = len(data)\n",
    "    n_cols = len(data[0])\n",
    "    x, y = coord\n",
    "    if (0 <= x < n_rows) and (0 <= y < n_cols):\n",
    "        return True\n",
    "    return False\n",
    "\n",
    "def get_answer(basins, n=3):\n",
    "    return np.product(sorted(basins, reverse=True)[:n])"
   ]
  },
  {
   "cell_type": "markdown",
   "id": "dfcdedc4",
   "metadata": {},
   "source": [
    "From [Wikipedia](https://en.wikipedia.org/wiki/Flood_fill)\n",
    "\n",
    "```\n",
    "Flood-fill (node):\n",
    "  1. Set Q to the empty queue or stack.\n",
    "  2. Add node to the end of Q.\n",
    "  3. While Q is not empty:\n",
    "  4.   Set n equal to the first element of Q.\n",
    "  5.   Remove first element from Q.\n",
    "  6.   If n is Inside:\n",
    "         Set the n\n",
    "         Add the node to the west of n to the end of Q.\n",
    "         Add the node to the east of n to the end of Q.\n",
    "         Add the node to the north of n to the end of Q.\n",
    "         Add the node to the south of n to the end of Q.\n",
    "  7. Continue looping until Q is exhausted.\n",
    "  8. Return.\n",
    " ```"
   ]
  },
  {
   "cell_type": "code",
   "execution_count": 46,
   "id": "2d44ffb6",
   "metadata": {},
   "outputs": [
    {
     "name": "stdout",
     "output_type": "stream",
     "text": [
      "CPU times: user 36.8 ms, sys: 1.55 ms, total: 38.3 ms\n",
      "Wall time: 37 ms\n"
     ]
    },
    {
     "data": {
      "text/plain": [
       "1045660"
      ]
     },
     "execution_count": 46,
     "metadata": {},
     "output_type": "execute_result"
    }
   ],
   "source": [
    "%%time\n",
    "\n",
    "basins = []\n",
    "\n",
    "for i, j in low_point_coords:\n",
    "    to_check = []\n",
    "    to_check.append((i, j))\n",
    "    seen = []\n",
    "    size = 0\n",
    "    depth = 0\n",
    "    \n",
    "    while len(to_check) > 0:\n",
    "        x, y = to_check.pop(0)\n",
    "        seen.append((x, y))\n",
    "        val = data[x][y]\n",
    "        \n",
    "        if val < 9:\n",
    "            size += 1\n",
    "            depth += val\n",
    "\n",
    "            for adj_xy in [(x-1, y), (x+1, y), (x, y-1), (x, y+1)]:\n",
    "                if (within_bounds(adj_xy, data)\n",
    "                    and adj_xy not in seen\n",
    "                    and adj_xy not in to_check):\n",
    "                    to_check.append(adj_xy)  \n",
    "    basins.append(size)\n",
    "\n",
    "get_answer(basins)"
   ]
  },
  {
   "cell_type": "markdown",
   "id": "1acd2f06",
   "metadata": {},
   "source": [
    "---"
   ]
  },
  {
   "cell_type": "code",
   "execution_count": null,
   "id": "d8a65b0c",
   "metadata": {},
   "outputs": [],
   "source": []
  },
  {
   "cell_type": "code",
   "execution_count": null,
   "id": "317f259b",
   "metadata": {},
   "outputs": [],
   "source": []
  },
  {
   "cell_type": "markdown",
   "id": "36d50ba9",
   "metadata": {},
   "source": [
    "## Day 25"
   ]
  },
  {
   "cell_type": "code",
   "execution_count": 47,
   "id": "826cef0b",
   "metadata": {},
   "outputs": [],
   "source": [
    "def get_move_mask(arr, direction, axis):\n",
    "    if direction not in ('>', 'v'):\n",
    "        raise ValueError('direction must be one of [\">\", \"v\"]')\n",
    "    return (arr == direction) & (np.roll(arr, -1, axis=axis) == '.')\n",
    "\n",
    "\n",
    "def shift(arr, direction, axis):\n",
    "    mask = get_move_mask(arr, direction, axis)\n",
    "    arr = np.where(np.roll(mask, 1, axis=axis), np.roll(arr, 1, axis=axis), arr)\n",
    "    arr[mask] = '.'\n",
    "    return arr\n",
    "\n",
    "\n",
    "def step_shift(arr):\n",
    "    arr = shift(arr, '>', 1)\n",
    "    arr = shift(arr, 'v', 0)\n",
    "    return arr\n",
    "\n",
    "\n",
    "def arrays_equal(arr1, arr2):\n",
    "    return np.all(arr1 == arr2)\n"
   ]
  },
  {
   "cell_type": "markdown",
   "id": "2c06b65a",
   "metadata": {},
   "source": [
    "### Part 1"
   ]
  },
  {
   "cell_type": "code",
   "execution_count": 48,
   "id": "ec05d10b",
   "metadata": {},
   "outputs": [
    {
     "data": {
      "text/plain": [
       "520"
      ]
     },
     "execution_count": 48,
     "metadata": {},
     "output_type": "execute_result"
    }
   ],
   "source": [
    "data = get_input_data(25, year=2021)\n",
    "A = np.array([list(x) for x in data.split('\\n')])\n",
    "valid_moves = True\n",
    "step = 1\n",
    "\n",
    "while valid_moves:\n",
    "    A_new = step_shift(A)\n",
    "    valid_moves = not arrays_equal(A, A_new)\n",
    "    if valid_moves:\n",
    "        A = A_new\n",
    "        step += 1\n",
    "\n",
    "step"
   ]
  },
  {
   "cell_type": "code",
   "execution_count": null,
   "id": "ae4ece18",
   "metadata": {},
   "outputs": [],
   "source": []
  }
 ],
 "metadata": {
  "kernelspec": {
   "display_name": "Python 3 (ipykernel)",
   "language": "python",
   "name": "python3"
  },
  "language_info": {
   "codemirror_mode": {
    "name": "ipython",
    "version": 3
   },
   "file_extension": ".py",
   "mimetype": "text/x-python",
   "name": "python",
   "nbconvert_exporter": "python",
   "pygments_lexer": "ipython3",
   "version": "3.10.0"
  }
 },
 "nbformat": 4,
 "nbformat_minor": 5
}
