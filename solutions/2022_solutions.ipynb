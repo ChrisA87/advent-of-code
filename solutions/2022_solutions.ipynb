{
 "cells": [
  {
   "cell_type": "markdown",
   "id": "b3d6341e",
   "metadata": {},
   "source": [
    "# Advent of Code 2022 Solutions"
   ]
  },
  {
   "cell_type": "code",
   "execution_count": 1,
   "id": "83e4be29",
   "metadata": {},
   "outputs": [],
   "source": [
    "import pandas as pd\n",
    "from aoc import get_input_data"
   ]
  },
  {
   "cell_type": "markdown",
   "id": "65ea7913",
   "metadata": {},
   "source": [
    "## Day 1"
   ]
  },
  {
   "cell_type": "code",
   "execution_count": 2,
   "id": "d15e58d0",
   "metadata": {},
   "outputs": [
    {
     "name": "stdout",
     "output_type": "stream",
     "text": [
      "70698\n",
      "206643\n"
     ]
    }
   ],
   "source": [
    "data = get_input_data(1)\n",
    "\n",
    "s = pd.Series([sum(map(int, chunk.split('\\n'))) for chunk in data.split('\\n\\n')])\n",
    "\n",
    "# Part 1\n",
    "print(s.max())\n",
    "\n",
    "# Part 2\n",
    "print(s.nlargest(3).sum())"
   ]
  },
  {
   "cell_type": "markdown",
   "id": "b89a9868",
   "metadata": {},
   "source": [
    "## Day 2"
   ]
  },
  {
   "cell_type": "code",
   "execution_count": 3,
   "id": "d0bddf5b",
   "metadata": {},
   "outputs": [
    {
     "data": {
      "text/plain": [
       "'A Y\\nB X\\nC Z'"
      ]
     },
     "execution_count": 3,
     "metadata": {},
     "output_type": "execute_result"
    }
   ],
   "source": [
    "data = \"\"\"A Y\n",
    "B X\n",
    "C Z\"\"\"\n",
    "\n",
    "data"
   ]
  },
  {
   "cell_type": "code",
   "execution_count": 4,
   "id": "1dbbfdd6",
   "metadata": {},
   "outputs": [],
   "source": [
    "data = get_input_data(2)"
   ]
  },
  {
   "cell_type": "markdown",
   "id": "3e9f4062",
   "metadata": {},
   "source": [
    "### Part 1\n",
    "\n",
    "First Column\n",
    "> A for Rock, B for Paper, and C for Scissors.\n",
    "\n",
    "Second column\n",
    "> X for Rock, Y for Paper, and Z for Scissors\n",
    "\n",
    "Scoring\n",
    "> (1 for Rock, 2 for Paper, and 3 for Scissors)<br>\n",
    "> (0 if you lost, 3 if the round was a draw, and 6 if you won)"
   ]
  },
  {
   "cell_type": "code",
   "execution_count": 5,
   "id": "255b306a",
   "metadata": {},
   "outputs": [
    {
     "data": {
      "text/plain": [
       "12586"
      ]
     },
     "execution_count": 5,
     "metadata": {},
     "output_type": "execute_result"
    }
   ],
   "source": [
    "d = {\n",
    "    'A': {\n",
    "        'X': (1, 3),\n",
    "        'Y': (2, 6),\n",
    "        'Z': (3, 0)\n",
    "    },\n",
    "    'B': {\n",
    "        'X': (1, 0),\n",
    "        'Y': (2, 3),\n",
    "        'Z': (3, 6)\n",
    "    },\n",
    "    'C': {\n",
    "        'X': (1, 6),\n",
    "        'Y': (2, 0),\n",
    "        'Z': (3, 3)\n",
    "    },\n",
    "}\n",
    "\n",
    "score = 0\n",
    "\n",
    "for x in data.split('\\n'):\n",
    "    p1, p2 = x.split()\n",
    "    points, outcome = d[p1][p2]\n",
    "    score += points + outcome\n",
    "\n",
    "score"
   ]
  },
  {
   "cell_type": "markdown",
   "id": "5328c553",
   "metadata": {},
   "source": [
    "### Part 2\n",
    "\n",
    "> X means you need to lose, Y means you need to end the round in a draw, and Z means you need to win"
   ]
  },
  {
   "cell_type": "code",
   "execution_count": 6,
   "id": "8578a667",
   "metadata": {},
   "outputs": [
    {
     "data": {
      "text/plain": [
       "13193"
      ]
     },
     "execution_count": 6,
     "metadata": {},
     "output_type": "execute_result"
    }
   ],
   "source": [
    "d_points = {\n",
    "    'A': 1, 'B': 2, 'C': 3,\n",
    "    'X': 1, 'Y': 2, 'Z': 3\n",
    "}\n",
    "d_win_lose = {'A': ('Y', 'Z'), 'B': ('Z', 'X'), 'C': ('X', 'Y')}\n",
    "\n",
    "\n",
    "score = 0\n",
    "\n",
    "for x in data.split('\\n'):\n",
    "    p1, p2 = x.split()\n",
    "    \n",
    "    win, lose = d_win_lose[p1]\n",
    "\n",
    "    # Lose\n",
    "    if p2 == 'X':\n",
    "        outcome = 0\n",
    "        points = d_points[lose]\n",
    "    \n",
    "    # Draw\n",
    "    elif p2 == 'Y':\n",
    "        outcome = 3\n",
    "        points = d_points[p1]\n",
    "        \n",
    "    # Win\n",
    "    else:\n",
    "        outcome = 6\n",
    "        points = d_points[win]\n",
    "    score += outcome + points\n",
    "\n",
    "score"
   ]
  },
  {
   "cell_type": "markdown",
   "id": "62c67965",
   "metadata": {},
   "source": [
    "---\n",
    "## Day 3\n",
    "### Part 1"
   ]
  },
  {
   "cell_type": "code",
   "execution_count": 7,
   "id": "2448b9f9",
   "metadata": {},
   "outputs": [
    {
     "data": {
      "text/plain": [
       "['vJrwpWtwJgWrhcsFMMfFFhFp',\n",
       " 'jqHRNqRjqzjGDLGLrsFMfFZSrLrFZsSL',\n",
       " 'PmmdzqPrVvPwwTWBwg',\n",
       " 'wMqvLMZHhHMvwLHjbvcjnnSBnvTQFn',\n",
       " 'ttgJtRGJQctTZtZT',\n",
       " 'CrZsJsPPZsGzwwsLwLmpwMDw']"
      ]
     },
     "execution_count": 7,
     "metadata": {},
     "output_type": "execute_result"
    }
   ],
   "source": [
    "data = \"\"\"vJrwpWtwJgWrhcsFMMfFFhFp\n",
    "jqHRNqRjqzjGDLGLrsFMfFZSrLrFZsSL\n",
    "PmmdzqPrVvPwwTWBwg\n",
    "wMqvLMZHhHMvwLHjbvcjnnSBnvTQFn\n",
    "ttgJtRGJQctTZtZT\n",
    "CrZsJsPPZsGzwwsLwLmpwMDw\"\"\"\n",
    "\n",
    "data = data.split('\\n')\n",
    "data"
   ]
  },
  {
   "cell_type": "code",
   "execution_count": 8,
   "id": "ec5fd009",
   "metadata": {},
   "outputs": [],
   "source": [
    "data = get_input_data(3)\n",
    "data = data.split('\\n')"
   ]
  },
  {
   "cell_type": "code",
   "execution_count": 9,
   "id": "32b6fd1f",
   "metadata": {},
   "outputs": [
    {
     "name": "stdout",
     "output_type": "stream",
     "text": [
      "{'a': 1, 'b': 2, 'c': 3, 'd': 4, 'e': 5, 'f': 6, 'g': 7, 'h': 8, 'i': 9, 'j': 10, 'k': 11, 'l': 12, 'm': 13, 'n': 14, 'o': 15, 'p': 16, 'q': 17, 'r': 18, 's': 19, 't': 20, 'u': 21, 'v': 22, 'w': 23, 'x': 24, 'y': 25, 'z': 26, 'A': 27, 'B': 28, 'C': 29, 'D': 30, 'E': 31, 'F': 32, 'G': 33, 'H': 34, 'I': 35, 'J': 36, 'K': 37, 'L': 38, 'M': 39, 'N': 40, 'O': 41, 'P': 42, 'Q': 43, 'R': 44, 'S': 45, 'T': 46, 'U': 47, 'V': 48, 'W': 49, 'X': 50, 'Y': 51, 'Z': 52}\n"
     ]
    }
   ],
   "source": [
    "from string import ascii_lowercase, ascii_uppercase\n",
    "\n",
    "# Build letter priority dict\n",
    "priorities = {l: i for i, l in enumerate(ascii_lowercase, 1)}\n",
    "priorities.update({l: i for i, l in enumerate(ascii_uppercase, 27)})\n",
    "print(priorities)"
   ]
  },
  {
   "cell_type": "code",
   "execution_count": 10,
   "id": "17ceb800",
   "metadata": {},
   "outputs": [],
   "source": [
    "def split_rucksack(rucksack):\n",
    "    mid = len(rucksack) // 2\n",
    "    return rucksack[:mid], rucksack[mid:]\n",
    "\n",
    "def get_common_items(compartment1, compartment2):\n",
    "    c1 = set(compartment1)\n",
    "    c2 = set(compartment2)\n",
    "    return c1 & c2"
   ]
  },
  {
   "cell_type": "code",
   "execution_count": 11,
   "id": "efdd7670",
   "metadata": {},
   "outputs": [
    {
     "data": {
      "text/plain": [
       "8515"
      ]
     },
     "execution_count": 11,
     "metadata": {},
     "output_type": "execute_result"
    }
   ],
   "source": [
    "score = 0\n",
    "\n",
    "for rucksack in data:\n",
    "    compartments = split_rucksack(rucksack)\n",
    "    common_items = get_common_items(*compartments)\n",
    "    for item in common_items:\n",
    "        score += priorities.get(item)\n",
    "score"
   ]
  },
  {
   "cell_type": "markdown",
   "id": "c49ca0fb",
   "metadata": {},
   "source": [
    "### Part 2"
   ]
  },
  {
   "cell_type": "code",
   "execution_count": 12,
   "id": "947d300c",
   "metadata": {},
   "outputs": [],
   "source": [
    "def get_common_items_v2(*rucksacks):\n",
    "    items = [set(rucksack) for rucksack in rucksacks]\n",
    "    return set.intersection(*items)\n"
   ]
  },
  {
   "cell_type": "code",
   "execution_count": 13,
   "id": "61099667",
   "metadata": {},
   "outputs": [
    {
     "data": {
      "text/plain": [
       "2434"
      ]
     },
     "execution_count": 13,
     "metadata": {},
     "output_type": "execute_result"
    }
   ],
   "source": [
    "score = 0\n",
    "n_group = 3\n",
    "\n",
    "for i in range(0, len(data), n_group):\n",
    "    group_rucksacks = data[i: i + n_group]\n",
    "    common_items = get_common_items_v2(*group_rucksacks)\n",
    "    for item in common_items:\n",
    "        score += priorities.get(item)\n",
    "score"
   ]
  },
  {
   "cell_type": "markdown",
   "id": "63c96cf1",
   "metadata": {},
   "source": [
    "## Day 4\n",
    "### Part 1"
   ]
  },
  {
   "cell_type": "code",
   "execution_count": 14,
   "id": "e390fed4",
   "metadata": {},
   "outputs": [],
   "source": [
    "data = '''2-4,6-8\n",
    "2-3,4-5\n",
    "5-7,7-9\n",
    "2-8,3-7\n",
    "6-6,4-6\n",
    "2-6,4-8'''\n"
   ]
  },
  {
   "cell_type": "code",
   "execution_count": 15,
   "id": "6e374c5c",
   "metadata": {},
   "outputs": [],
   "source": [
    "def process_line(line):\n",
    "    ranges = dict(enumerate(line.split(',')))\n",
    "    for i, rng in ranges.items():\n",
    "        start, end = map(int, rng.split('-'))\n",
    "        rng = range(start, end+1)\n",
    "        ranges[i] = rng\n",
    "    return tuple(ranges.values())\n",
    "\n",
    "def order_ranges(*ranges):\n",
    "    return sorted(ranges, key=lambda x: x.start - x.stop)\n",
    "\n",
    "def is_contained(outer, inner):\n",
    "    if (outer.start <= inner.start) and (outer.stop >= inner.stop):\n",
    "        return True\n",
    "    return False\n"
   ]
  },
  {
   "cell_type": "code",
   "execution_count": 16,
   "id": "d079d319",
   "metadata": {},
   "outputs": [],
   "source": [
    "data = get_input_data(4)"
   ]
  },
  {
   "cell_type": "code",
   "execution_count": 17,
   "id": "842e04ca",
   "metadata": {},
   "outputs": [
    {
     "name": "stdout",
     "output_type": "stream",
     "text": [
      "CPU times: user 7.98 ms, sys: 220 µs, total: 8.2 ms\n",
      "Wall time: 8.43 ms\n"
     ]
    },
    {
     "data": {
      "text/plain": [
       "431"
      ]
     },
     "execution_count": 17,
     "metadata": {},
     "output_type": "execute_result"
    }
   ],
   "source": [
    "%%time\n",
    "count = 0\n",
    "\n",
    "for line in data.split('\\n'):\n",
    "    rng1, rng2 = process_line(line)\n",
    "    ordered = order_ranges(rng1, rng2)\n",
    "    if is_contained(*ordered):\n",
    "        count += 1\n",
    "count"
   ]
  },
  {
   "cell_type": "markdown",
   "id": "4ad70b72",
   "metadata": {},
   "source": [
    "### Part 2"
   ]
  },
  {
   "cell_type": "code",
   "execution_count": 18,
   "id": "6598b2f3",
   "metadata": {},
   "outputs": [],
   "source": [
    "def overlaps(rng1, rng2):\n",
    "    if set(rng1).intersection(rng2):\n",
    "        return True\n",
    "    if set(rng2).intersection(rng1):\n",
    "        return True\n",
    "    return False"
   ]
  },
  {
   "cell_type": "code",
   "execution_count": 19,
   "id": "b66f721e",
   "metadata": {},
   "outputs": [
    {
     "name": "stdout",
     "output_type": "stream",
     "text": [
      "CPU times: user 5.13 ms, sys: 155 µs, total: 5.29 ms\n",
      "Wall time: 5.24 ms\n"
     ]
    },
    {
     "data": {
      "text/plain": [
       "823"
      ]
     },
     "execution_count": 19,
     "metadata": {},
     "output_type": "execute_result"
    }
   ],
   "source": [
    "%%time\n",
    "\n",
    "count = 0\n",
    "\n",
    "for line in data.split('\\n'):\n",
    "    rng1, rng2 = process_line(line)\n",
    "    if overlaps(rng1, rng2):\n",
    "        count += 1\n",
    "count"
   ]
  },
  {
   "cell_type": "code",
   "execution_count": null,
   "id": "44795d68",
   "metadata": {},
   "outputs": [],
   "source": []
  }
 ],
 "metadata": {
  "kernelspec": {
   "display_name": "Python 3 (ipykernel)",
   "language": "python",
   "name": "python3"
  },
  "language_info": {
   "codemirror_mode": {
    "name": "ipython",
    "version": 3
   },
   "file_extension": ".py",
   "mimetype": "text/x-python",
   "name": "python",
   "nbconvert_exporter": "python",
   "pygments_lexer": "ipython3",
   "version": "3.10.0"
  }
 },
 "nbformat": 4,
 "nbformat_minor": 5
}
