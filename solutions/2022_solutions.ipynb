{
 "cells": [
  {
   "cell_type": "markdown",
   "id": "b3d6341e",
   "metadata": {},
   "source": [
    "# Advent of Code 2022 Solutions"
   ]
  },
  {
   "cell_type": "code",
   "execution_count": 1,
   "id": "83e4be29",
   "metadata": {},
   "outputs": [],
   "source": [
    "import pandas as pd\n",
    "from aoc import get_input_data"
   ]
  },
  {
   "cell_type": "markdown",
   "id": "65ea7913",
   "metadata": {},
   "source": [
    "## Day 1"
   ]
  },
  {
   "cell_type": "code",
   "execution_count": 2,
   "id": "d15e58d0",
   "metadata": {},
   "outputs": [
    {
     "name": "stdout",
     "output_type": "stream",
     "text": [
      "70698\n",
      "206643\n"
     ]
    }
   ],
   "source": [
    "data = get_input_data(1)\n",
    "\n",
    "s = pd.Series([sum(map(int, chunk.split('\\n'))) for chunk in data.split('\\n\\n')])\n",
    "\n",
    "# Part 1\n",
    "print(s.max())\n",
    "\n",
    "# Part 2\n",
    "print(s.nlargest(3).sum())"
   ]
  },
  {
   "cell_type": "markdown",
   "id": "b89a9868",
   "metadata": {},
   "source": [
    "## Day 2"
   ]
  },
  {
   "cell_type": "code",
   "execution_count": 3,
   "id": "d0bddf5b",
   "metadata": {},
   "outputs": [
    {
     "data": {
      "text/plain": [
       "'A Y\\nB X\\nC Z'"
      ]
     },
     "execution_count": 3,
     "metadata": {},
     "output_type": "execute_result"
    }
   ],
   "source": [
    "data = \"\"\"A Y\n",
    "B X\n",
    "C Z\"\"\"\n",
    "\n",
    "data"
   ]
  },
  {
   "cell_type": "code",
   "execution_count": 4,
   "id": "1dbbfdd6",
   "metadata": {},
   "outputs": [],
   "source": [
    "data = get_input_data(2)"
   ]
  },
  {
   "cell_type": "markdown",
   "id": "3e9f4062",
   "metadata": {},
   "source": [
    "### Part 1\n",
    "\n",
    "First Column\n",
    "> A for Rock, B for Paper, and C for Scissors.\n",
    "\n",
    "Second column\n",
    "> X for Rock, Y for Paper, and Z for Scissors\n",
    "\n",
    "Scoring\n",
    "> (1 for Rock, 2 for Paper, and 3 for Scissors)<br>\n",
    "> (0 if you lost, 3 if the round was a draw, and 6 if you won)"
   ]
  },
  {
   "cell_type": "code",
   "execution_count": 5,
   "id": "255b306a",
   "metadata": {},
   "outputs": [
    {
     "data": {
      "text/plain": [
       "12586"
      ]
     },
     "execution_count": 5,
     "metadata": {},
     "output_type": "execute_result"
    }
   ],
   "source": [
    "d = {\n",
    "    'A': {\n",
    "        'X': (1, 3),\n",
    "        'Y': (2, 6),\n",
    "        'Z': (3, 0)\n",
    "    },\n",
    "    'B': {\n",
    "        'X': (1, 0),\n",
    "        'Y': (2, 3),\n",
    "        'Z': (3, 6)\n",
    "    },\n",
    "    'C': {\n",
    "        'X': (1, 6),\n",
    "        'Y': (2, 0),\n",
    "        'Z': (3, 3)\n",
    "    },\n",
    "}\n",
    "\n",
    "score = 0\n",
    "\n",
    "for x in data.split('\\n'):\n",
    "    p1, p2 = x.split()\n",
    "    points, outcome = d[p1][p2]\n",
    "    score += points + outcome\n",
    "\n",
    "score"
   ]
  },
  {
   "cell_type": "markdown",
   "id": "5328c553",
   "metadata": {},
   "source": [
    "### Part 2\n",
    "\n",
    "> X means you need to lose, Y means you need to end the round in a draw, and Z means you need to win"
   ]
  },
  {
   "cell_type": "code",
   "execution_count": 6,
   "id": "8578a667",
   "metadata": {},
   "outputs": [
    {
     "data": {
      "text/plain": [
       "13193"
      ]
     },
     "execution_count": 6,
     "metadata": {},
     "output_type": "execute_result"
    }
   ],
   "source": [
    "d_points = {\n",
    "    'A': 1, 'B': 2, 'C': 3,\n",
    "    'X': 1, 'Y': 2, 'Z': 3\n",
    "}\n",
    "d_win_lose = {'A': ('Y', 'Z'), 'B': ('Z', 'X'), 'C': ('X', 'Y')}\n",
    "\n",
    "\n",
    "score = 0\n",
    "\n",
    "for x in data.split('\\n'):\n",
    "    p1, p2 = x.split()\n",
    "    \n",
    "    win, lose = d_win_lose[p1]\n",
    "\n",
    "    # Lose\n",
    "    if p2 == 'X':\n",
    "        outcome = 0\n",
    "        points = d_points[lose]\n",
    "    \n",
    "    # Draw\n",
    "    elif p2 == 'Y':\n",
    "        outcome = 3\n",
    "        points = d_points[p1]\n",
    "        \n",
    "    # Win\n",
    "    else:\n",
    "        outcome = 6\n",
    "        points = d_points[win]\n",
    "    score += outcome + points\n",
    "\n",
    "score"
   ]
  },
  {
   "cell_type": "code",
   "execution_count": null,
   "id": "f589e847",
   "metadata": {},
   "outputs": [],
   "source": []
  }
 ],
 "metadata": {
  "kernelspec": {
   "display_name": "Python 3 (ipykernel)",
   "language": "python",
   "name": "python3"
  },
  "language_info": {
   "codemirror_mode": {
    "name": "ipython",
    "version": 3
   },
   "file_extension": ".py",
   "mimetype": "text/x-python",
   "name": "python",
   "nbconvert_exporter": "python",
   "pygments_lexer": "ipython3",
   "version": "3.10.0"
  }
 },
 "nbformat": 4,
 "nbformat_minor": 5
}
