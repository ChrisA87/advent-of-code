{
 "cells": [
  {
   "cell_type": "markdown",
   "id": "b3d6341e",
   "metadata": {},
   "source": [
    "# Advent of Code 2022 Solutions"
   ]
  },
  {
   "cell_type": "code",
   "execution_count": 1,
   "id": "83e4be29",
   "metadata": {},
   "outputs": [],
   "source": [
    "import pandas as pd\n",
    "from aoc import get_input_data"
   ]
  },
  {
   "cell_type": "markdown",
   "id": "65ea7913",
   "metadata": {},
   "source": [
    "## Day 1"
   ]
  },
  {
   "cell_type": "code",
   "execution_count": 2,
   "id": "d15e58d0",
   "metadata": {},
   "outputs": [
    {
     "name": "stdout",
     "output_type": "stream",
     "text": [
      "70698\n",
      "206643\n"
     ]
    }
   ],
   "source": [
    "data = get_input_data(1)\n",
    "\n",
    "s = pd.Series([sum(map(int, chunk.split('\\n'))) for chunk in data.split('\\n\\n')])\n",
    "\n",
    "# Part 1\n",
    "print(s.max())\n",
    "\n",
    "# Part 2\n",
    "print(s.nlargest(3).sum())"
   ]
  },
  {
   "cell_type": "markdown",
   "id": "b89a9868",
   "metadata": {},
   "source": [
    "## Day 2"
   ]
  },
  {
   "cell_type": "code",
   "execution_count": 3,
   "id": "d0bddf5b",
   "metadata": {},
   "outputs": [
    {
     "data": {
      "text/plain": [
       "'A Y\\nB X\\nC Z'"
      ]
     },
     "execution_count": 3,
     "metadata": {},
     "output_type": "execute_result"
    }
   ],
   "source": [
    "data = \"\"\"A Y\n",
    "B X\n",
    "C Z\"\"\"\n",
    "\n",
    "data"
   ]
  },
  {
   "cell_type": "code",
   "execution_count": 4,
   "id": "1dbbfdd6",
   "metadata": {},
   "outputs": [],
   "source": [
    "data = get_input_data(2)"
   ]
  },
  {
   "cell_type": "markdown",
   "id": "3e9f4062",
   "metadata": {},
   "source": [
    "### Part 1\n",
    "\n",
    "First Column\n",
    "> A for Rock, B for Paper, and C for Scissors.\n",
    "\n",
    "Second column\n",
    "> X for Rock, Y for Paper, and Z for Scissors\n",
    "\n",
    "Scoring\n",
    "> (1 for Rock, 2 for Paper, and 3 for Scissors)<br>\n",
    "> (0 if you lost, 3 if the round was a draw, and 6 if you won)"
   ]
  },
  {
   "cell_type": "code",
   "execution_count": 5,
   "id": "255b306a",
   "metadata": {},
   "outputs": [
    {
     "data": {
      "text/plain": [
       "12586"
      ]
     },
     "execution_count": 5,
     "metadata": {},
     "output_type": "execute_result"
    }
   ],
   "source": [
    "d = {\n",
    "    'A': {\n",
    "        'X': (1, 3),\n",
    "        'Y': (2, 6),\n",
    "        'Z': (3, 0)\n",
    "    },\n",
    "    'B': {\n",
    "        'X': (1, 0),\n",
    "        'Y': (2, 3),\n",
    "        'Z': (3, 6)\n",
    "    },\n",
    "    'C': {\n",
    "        'X': (1, 6),\n",
    "        'Y': (2, 0),\n",
    "        'Z': (3, 3)\n",
    "    },\n",
    "}\n",
    "\n",
    "score = 0\n",
    "\n",
    "for x in data.split('\\n'):\n",
    "    p1, p2 = x.split()\n",
    "    points, outcome = d[p1][p2]\n",
    "    score += points + outcome\n",
    "\n",
    "score"
   ]
  },
  {
   "cell_type": "markdown",
   "id": "5328c553",
   "metadata": {},
   "source": [
    "### Part 2\n",
    "\n",
    "> X means you need to lose, Y means you need to end the round in a draw, and Z means you need to win"
   ]
  },
  {
   "cell_type": "code",
   "execution_count": 6,
   "id": "8578a667",
   "metadata": {},
   "outputs": [
    {
     "data": {
      "text/plain": [
       "13193"
      ]
     },
     "execution_count": 6,
     "metadata": {},
     "output_type": "execute_result"
    }
   ],
   "source": [
    "d_points = {\n",
    "    'A': 1, 'B': 2, 'C': 3,\n",
    "    'X': 1, 'Y': 2, 'Z': 3\n",
    "}\n",
    "d_win_lose = {'A': ('Y', 'Z'), 'B': ('Z', 'X'), 'C': ('X', 'Y')}\n",
    "\n",
    "\n",
    "score = 0\n",
    "\n",
    "for x in data.split('\\n'):\n",
    "    p1, p2 = x.split()\n",
    "    \n",
    "    win, lose = d_win_lose[p1]\n",
    "\n",
    "    # Lose\n",
    "    if p2 == 'X':\n",
    "        outcome = 0\n",
    "        points = d_points[lose]\n",
    "    \n",
    "    # Draw\n",
    "    elif p2 == 'Y':\n",
    "        outcome = 3\n",
    "        points = d_points[p1]\n",
    "        \n",
    "    # Win\n",
    "    else:\n",
    "        outcome = 6\n",
    "        points = d_points[win]\n",
    "    score += outcome + points\n",
    "\n",
    "score"
   ]
  },
  {
   "cell_type": "markdown",
   "id": "62c67965",
   "metadata": {},
   "source": [
    "---\n",
    "## Day 3\n",
    "### Part 1"
   ]
  },
  {
   "cell_type": "code",
   "execution_count": 7,
   "id": "2448b9f9",
   "metadata": {},
   "outputs": [
    {
     "data": {
      "text/plain": [
       "['vJrwpWtwJgWrhcsFMMfFFhFp',\n",
       " 'jqHRNqRjqzjGDLGLrsFMfFZSrLrFZsSL',\n",
       " 'PmmdzqPrVvPwwTWBwg',\n",
       " 'wMqvLMZHhHMvwLHjbvcjnnSBnvTQFn',\n",
       " 'ttgJtRGJQctTZtZT',\n",
       " 'CrZsJsPPZsGzwwsLwLmpwMDw']"
      ]
     },
     "execution_count": 7,
     "metadata": {},
     "output_type": "execute_result"
    }
   ],
   "source": [
    "data = \"\"\"vJrwpWtwJgWrhcsFMMfFFhFp\n",
    "jqHRNqRjqzjGDLGLrsFMfFZSrLrFZsSL\n",
    "PmmdzqPrVvPwwTWBwg\n",
    "wMqvLMZHhHMvwLHjbvcjnnSBnvTQFn\n",
    "ttgJtRGJQctTZtZT\n",
    "CrZsJsPPZsGzwwsLwLmpwMDw\"\"\"\n",
    "\n",
    "data = data.split('\\n')\n",
    "data"
   ]
  },
  {
   "cell_type": "code",
   "execution_count": 8,
   "id": "ec5fd009",
   "metadata": {},
   "outputs": [],
   "source": [
    "data = get_input_data(3)\n",
    "data = data.split('\\n')"
   ]
  },
  {
   "cell_type": "code",
   "execution_count": 9,
   "id": "32b6fd1f",
   "metadata": {},
   "outputs": [
    {
     "name": "stdout",
     "output_type": "stream",
     "text": [
      "{'a': 1, 'b': 2, 'c': 3, 'd': 4, 'e': 5, 'f': 6, 'g': 7, 'h': 8, 'i': 9, 'j': 10, 'k': 11, 'l': 12, 'm': 13, 'n': 14, 'o': 15, 'p': 16, 'q': 17, 'r': 18, 's': 19, 't': 20, 'u': 21, 'v': 22, 'w': 23, 'x': 24, 'y': 25, 'z': 26, 'A': 27, 'B': 28, 'C': 29, 'D': 30, 'E': 31, 'F': 32, 'G': 33, 'H': 34, 'I': 35, 'J': 36, 'K': 37, 'L': 38, 'M': 39, 'N': 40, 'O': 41, 'P': 42, 'Q': 43, 'R': 44, 'S': 45, 'T': 46, 'U': 47, 'V': 48, 'W': 49, 'X': 50, 'Y': 51, 'Z': 52}\n"
     ]
    }
   ],
   "source": [
    "from string import ascii_lowercase, ascii_uppercase\n",
    "\n",
    "# Build letter priority dict\n",
    "priorities = {l: i for i, l in enumerate(ascii_lowercase, 1)}\n",
    "priorities.update({l: i for i, l in enumerate(ascii_uppercase, 27)})\n",
    "print(priorities)"
   ]
  },
  {
   "cell_type": "code",
   "execution_count": 10,
   "id": "17ceb800",
   "metadata": {},
   "outputs": [],
   "source": [
    "def split_rucksack(rucksack):\n",
    "    mid = len(rucksack) // 2\n",
    "    return rucksack[:mid], rucksack[mid:]\n",
    "\n",
    "def get_common_items(compartment1, compartment2):\n",
    "    c1 = set(compartment1)\n",
    "    c2 = set(compartment2)\n",
    "    return c1 & c2"
   ]
  },
  {
   "cell_type": "code",
   "execution_count": 11,
   "id": "efdd7670",
   "metadata": {},
   "outputs": [
    {
     "data": {
      "text/plain": [
       "8515"
      ]
     },
     "execution_count": 11,
     "metadata": {},
     "output_type": "execute_result"
    }
   ],
   "source": [
    "score = 0\n",
    "\n",
    "for rucksack in data:\n",
    "    compartments = split_rucksack(rucksack)\n",
    "    common_items = get_common_items(*compartments)\n",
    "    for item in common_items:\n",
    "        score += priorities.get(item)\n",
    "score"
   ]
  },
  {
   "cell_type": "markdown",
   "id": "c49ca0fb",
   "metadata": {},
   "source": [
    "### Part 2"
   ]
  },
  {
   "cell_type": "code",
   "execution_count": 12,
   "id": "947d300c",
   "metadata": {},
   "outputs": [],
   "source": [
    "def get_common_items_v2(*rucksacks):\n",
    "    items = [set(rucksack) for rucksack in rucksacks]\n",
    "    return set.intersection(*items)\n"
   ]
  },
  {
   "cell_type": "code",
   "execution_count": 13,
   "id": "61099667",
   "metadata": {},
   "outputs": [
    {
     "data": {
      "text/plain": [
       "2434"
      ]
     },
     "execution_count": 13,
     "metadata": {},
     "output_type": "execute_result"
    }
   ],
   "source": [
    "score = 0\n",
    "n_group = 3\n",
    "\n",
    "for i in range(0, len(data), n_group):\n",
    "    group_rucksacks = data[i: i + n_group]\n",
    "    common_items = get_common_items_v2(*group_rucksacks)\n",
    "    for item in common_items:\n",
    "        score += priorities.get(item)\n",
    "score"
   ]
  },
  {
   "cell_type": "markdown",
   "id": "63c96cf1",
   "metadata": {},
   "source": [
    "## Day 4\n",
    "### Part 1"
   ]
  },
  {
   "cell_type": "code",
   "execution_count": 14,
   "id": "e390fed4",
   "metadata": {},
   "outputs": [],
   "source": [
    "data = '''2-4,6-8\n",
    "2-3,4-5\n",
    "5-7,7-9\n",
    "2-8,3-7\n",
    "6-6,4-6\n",
    "2-6,4-8'''\n"
   ]
  },
  {
   "cell_type": "code",
   "execution_count": 15,
   "id": "6e374c5c",
   "metadata": {},
   "outputs": [],
   "source": [
    "def process_line(line):\n",
    "    ranges = dict(enumerate(line.split(',')))\n",
    "    for i, rng in ranges.items():\n",
    "        start, end = map(int, rng.split('-'))\n",
    "        rng = range(start, end+1)\n",
    "        ranges[i] = rng\n",
    "    return tuple(ranges.values())\n",
    "\n",
    "def order_ranges(*ranges):\n",
    "    return sorted(ranges, key=lambda x: x.start - x.stop)\n",
    "\n",
    "def is_contained(outer, inner):\n",
    "    if (outer.start <= inner.start) and (outer.stop >= inner.stop):\n",
    "        return True\n",
    "    return False\n"
   ]
  },
  {
   "cell_type": "code",
   "execution_count": 16,
   "id": "d079d319",
   "metadata": {},
   "outputs": [],
   "source": [
    "data = get_input_data(4)"
   ]
  },
  {
   "cell_type": "code",
   "execution_count": 17,
   "id": "842e04ca",
   "metadata": {},
   "outputs": [
    {
     "name": "stdout",
     "output_type": "stream",
     "text": [
      "CPU times: user 5.95 ms, sys: 138 µs, total: 6.09 ms\n",
      "Wall time: 6.09 ms\n"
     ]
    },
    {
     "data": {
      "text/plain": [
       "431"
      ]
     },
     "execution_count": 17,
     "metadata": {},
     "output_type": "execute_result"
    }
   ],
   "source": [
    "%%time\n",
    "count = 0\n",
    "\n",
    "for line in data.split('\\n'):\n",
    "    rng1, rng2 = process_line(line)\n",
    "    ordered = order_ranges(rng1, rng2)\n",
    "    if is_contained(*ordered):\n",
    "        count += 1\n",
    "count"
   ]
  },
  {
   "cell_type": "markdown",
   "id": "4ad70b72",
   "metadata": {},
   "source": [
    "### Part 2"
   ]
  },
  {
   "cell_type": "code",
   "execution_count": 18,
   "id": "6598b2f3",
   "metadata": {},
   "outputs": [],
   "source": [
    "def overlaps(rng1, rng2):\n",
    "    if set(rng1).intersection(rng2):\n",
    "        return True\n",
    "    if set(rng2).intersection(rng1):\n",
    "        return True\n",
    "    return False"
   ]
  },
  {
   "cell_type": "code",
   "execution_count": 19,
   "id": "b66f721e",
   "metadata": {},
   "outputs": [
    {
     "name": "stdout",
     "output_type": "stream",
     "text": [
      "CPU times: user 5.72 ms, sys: 8 µs, total: 5.72 ms\n",
      "Wall time: 5.73 ms\n"
     ]
    },
    {
     "data": {
      "text/plain": [
       "823"
      ]
     },
     "execution_count": 19,
     "metadata": {},
     "output_type": "execute_result"
    }
   ],
   "source": [
    "%%time\n",
    "\n",
    "count = 0\n",
    "\n",
    "for line in data.split('\\n'):\n",
    "    rng1, rng2 = process_line(line)\n",
    "    if overlaps(rng1, rng2):\n",
    "        count += 1\n",
    "count"
   ]
  },
  {
   "cell_type": "markdown",
   "id": "63dc9629",
   "metadata": {},
   "source": [
    "---\n",
    "## Day 5\n",
    "### Part 1"
   ]
  },
  {
   "cell_type": "code",
   "execution_count": 20,
   "id": "070e7a8f",
   "metadata": {},
   "outputs": [],
   "source": [
    "data = '''    [D]    \n",
    "[N] [C]    \n",
    "[Z] [M] [P]\n",
    " 1   2   3 \n",
    "\n",
    "move 1 from 2 to 1\n",
    "move 3 from 1 to 3\n",
    "move 2 from 2 to 1\n",
    "move 1 from 1 to 2'''"
   ]
  },
  {
   "cell_type": "code",
   "execution_count": 21,
   "id": "c20348d4",
   "metadata": {},
   "outputs": [],
   "source": [
    "import re\n",
    "\n",
    "def process_stack_line(line):\n",
    "    step = 4\n",
    "    crates = {}\n",
    "    \n",
    "    for i, idx in enumerate(range(0, len(line), step), 1):\n",
    "        crate = line[idx:idx+step]\n",
    "        if crate.startswith('['):\n",
    "            crates[i] = crate[1]\n",
    "    return crates\n",
    "\n",
    "def process_data(data):\n",
    "    stacks = {}\n",
    "    lines = iter(data.split('\\n'))\n",
    "    line = ''\n",
    "    \n",
    "    while not line.startswith(' 1'):\n",
    "        line = next(lines)\n",
    "        crates = process_stack_line(line)\n",
    "        for n, crate in crates.items():\n",
    "            stacks.setdefault(n, []).append(crate)\n",
    "    return stacks, list(lines)[1:]\n",
    "\n",
    "def parse_instruction(instruction):\n",
    "    pat = re.compile(r'move (\\d+) from (\\d+) to (\\d+)')\n",
    "    groups = list(map(int, pat.match(instruction).groups()))\n",
    "    return groups\n",
    "\n",
    "def move_crates(stacks, n, from_, to, model=9000):\n",
    "        \n",
    "    crates = []\n",
    "    for i in range(n):\n",
    "        if stacks[from_]:\n",
    "            crate = stacks[from_].pop(0)\n",
    "            crates.append(crate)\n",
    "\n",
    "    if model == 9000:\n",
    "        for crate in crates:\n",
    "            stacks[to].insert(0, crate)\n",
    "    elif model == 9001:\n",
    "        stacks[to] = crates + stacks[to]\n",
    "    else:\n",
    "        raise ValueError('model can be 9000 or 9001')\n",
    "\n",
    "\n",
    "def get_answer(stacks):\n",
    "    result = ''\n",
    "    for i in range(1, len(stacks) + 1):\n",
    "        result += stacks[i][0]\n",
    "    return result\n",
    "\n",
    "def render_stacks(stacks):\n",
    "    for i in range(1, len(stacks) + 1):\n",
    "        print(f'{i:>2} - {stacks[i]}')"
   ]
  },
  {
   "cell_type": "code",
   "execution_count": 22,
   "id": "e015e4cd",
   "metadata": {},
   "outputs": [],
   "source": [
    "data = get_input_data(5)"
   ]
  },
  {
   "cell_type": "code",
   "execution_count": 23,
   "id": "2d61beb3",
   "metadata": {
    "scrolled": false
   },
   "outputs": [
    {
     "data": {
      "text/plain": [
       "'VQZNJMWTR'"
      ]
     },
     "execution_count": 23,
     "metadata": {},
     "output_type": "execute_result"
    }
   ],
   "source": [
    "stacks, instructions = process_data(data)\n",
    "\n",
    "for instruction in instructions:\n",
    "    \n",
    "    n, from_, to = parse_instruction(instruction)\n",
    "    move_crates(stacks, n, from_, to)\n",
    "\n",
    "get_answer(stacks)"
   ]
  },
  {
   "cell_type": "markdown",
   "id": "18476c09",
   "metadata": {},
   "source": [
    "### Part 2"
   ]
  },
  {
   "cell_type": "code",
   "execution_count": 24,
   "id": "5b8fcde3",
   "metadata": {
    "scrolled": false
   },
   "outputs": [
    {
     "data": {
      "text/plain": [
       "'NLCDCLVMQ'"
      ]
     },
     "execution_count": 24,
     "metadata": {},
     "output_type": "execute_result"
    }
   ],
   "source": [
    "stacks, instructions = process_data(data)\n",
    "\n",
    "for instruction in instructions:\n",
    "    \n",
    "    n, from_, to = parse_instruction(instruction)\n",
    "    move_crates(stacks, n, from_, to, model=9001)\n",
    "\n",
    "get_answer(stacks)"
   ]
  },
  {
   "cell_type": "markdown",
   "id": "32fec137",
   "metadata": {},
   "source": [
    "---\n",
    "## Day 6\n",
    "### Part 1"
   ]
  },
  {
   "cell_type": "code",
   "execution_count": 25,
   "id": "a220c0d7",
   "metadata": {},
   "outputs": [],
   "source": [
    "data = 'mjqjpqmgbljsphdztnvjfqwrcgsmlb'"
   ]
  },
  {
   "cell_type": "code",
   "execution_count": 26,
   "id": "6ed0730d",
   "metadata": {},
   "outputs": [],
   "source": [
    "data = get_input_data(6)"
   ]
  },
  {
   "cell_type": "code",
   "execution_count": 27,
   "id": "6d2b6a38",
   "metadata": {},
   "outputs": [
    {
     "data": {
      "text/plain": [
       "1480"
      ]
     },
     "execution_count": 27,
     "metadata": {},
     "output_type": "execute_result"
    }
   ],
   "source": [
    "def get_start_of_packet(data, n=4):\n",
    "\n",
    "    for i in range(len(data)):\n",
    "        chars = set(data[i:i+n])\n",
    "        if len(chars) == n:\n",
    "            return i + n\n",
    "\n",
    "get_start_of_packet(data)"
   ]
  },
  {
   "cell_type": "markdown",
   "id": "5e59b9bd",
   "metadata": {},
   "source": [
    "### Part 2"
   ]
  },
  {
   "cell_type": "code",
   "execution_count": 28,
   "id": "a88fdec0",
   "metadata": {},
   "outputs": [
    {
     "data": {
      "text/plain": [
       "2746"
      ]
     },
     "execution_count": 28,
     "metadata": {},
     "output_type": "execute_result"
    }
   ],
   "source": [
    "get_start_of_packet(data, n=14)"
   ]
  },
  {
   "cell_type": "markdown",
   "id": "6c1a8ddf",
   "metadata": {},
   "source": [
    "---\n",
    "## Day 7\n",
    "### Part 1"
   ]
  },
  {
   "cell_type": "code",
   "execution_count": 29,
   "id": "7764d566",
   "metadata": {},
   "outputs": [],
   "source": [
    "data = '''$ cd /\n",
    "$ ls\n",
    "dir a\n",
    "14848514 b.txt\n",
    "8504156 c.dat\n",
    "dir d\n",
    "$ cd a\n",
    "$ ls\n",
    "dir e\n",
    "29116 f\n",
    "2557 g\n",
    "62596 h.lst\n",
    "$ cd e\n",
    "$ ls\n",
    "584 i\n",
    "$ cd ..\n",
    "$ cd ..\n",
    "$ cd d\n",
    "$ ls\n",
    "4060174 j\n",
    "8033020 d.log\n",
    "5626152 d.ext\n",
    "7214296 k'''"
   ]
  },
  {
   "cell_type": "code",
   "execution_count": 30,
   "id": "6d666808",
   "metadata": {},
   "outputs": [],
   "source": [
    "class Directory():\n",
    "    def __init__(self, name, parent):\n",
    "        self.name = name\n",
    "        self.parent = parent\n",
    "        self._children = {}\n",
    "        self.files = {}\n",
    "        \n",
    "    @property\n",
    "    def children(self):\n",
    "        return list(self._children.values())\n",
    "        \n",
    "    @property\n",
    "    def root(self):\n",
    "        root_ = self\n",
    "        while root_.parent is not None:\n",
    "            root_ = root_.parent\n",
    "        return root_\n",
    "    \n",
    "    @property\n",
    "    def depth(self):\n",
    "        depth_ = 0\n",
    "        root_ = self\n",
    "        while root_.parent is not None:\n",
    "            root_ = root_.parent\n",
    "            depth_ += 1\n",
    "        return depth_\n",
    "\n",
    "    def add_file(self, name, size):\n",
    "        self.files[name] = int(size)\n",
    "        \n",
    "    def add_child(self, name):\n",
    "        self._children[name] = Directory(name, self)\n",
    "        \n",
    "    def get_size(self):\n",
    "        return sum(self.files.values())\n",
    "    \n",
    "    def get_total_size(self):\n",
    "        total = self.get_size()\n",
    "        \n",
    "        for child in self._children.values():\n",
    "            total += child.get_total_size()\n",
    "        return total\n",
    "    \n",
    "    def cd(self, name):\n",
    "        if name == '..':\n",
    "            return self.parent\n",
    "        if name == '/':\n",
    "            return self.root\n",
    "        return self._children[name]\n",
    "\n",
    "    def process_command(self, command):\n",
    "        if command == '$ ls':\n",
    "            return self\n",
    "        elif command.startswith('$ cd'):\n",
    "            name = command.split()[-1]\n",
    "            return self.cd(name)\n",
    "        elif command.startswith('dir'):\n",
    "            _, name = command.split()\n",
    "            self.add_child(name)\n",
    "        elif command[0].isdigit():\n",
    "            size, name = command.split()\n",
    "            self.add_file(name, size)\n",
    "        return self\n",
    "\n",
    "    def __repr__(self):\n",
    "        return (f\"Directory('{self.name}', root='{self.root.name}', \"\n",
    "                f\"total_size={self.get_total_size()}, depth={self.depth})\")\n",
    "\n",
    "    def __str__(self):\n",
    "        padding = '  ' * self.depth\n",
    "        output = [f\"{padding}-{self.name} (dir) - total_size: {self.get_total_size()}\"]\n",
    "        for name, size in self.files.items():\n",
    "            output.append(f\"{padding}  {name} ({size})\")\n",
    "        for child in self.children:\n",
    "            output.append(f\"{child.__str__()}\")\n",
    "        return '\\n'.join(output)\n",
    "\n"
   ]
  },
  {
   "cell_type": "code",
   "execution_count": 31,
   "id": "74fb8cae",
   "metadata": {},
   "outputs": [],
   "source": [
    "data = get_input_data(7)"
   ]
  },
  {
   "cell_type": "code",
   "execution_count": 32,
   "id": "1dbecf4c",
   "metadata": {},
   "outputs": [
    {
     "data": {
      "text/plain": [
       "1297159"
      ]
     },
     "execution_count": 32,
     "metadata": {},
     "output_type": "execute_result"
    }
   ],
   "source": [
    "# Build the directory tree\n",
    "tree = Directory('/', parent=None)\n",
    "for command in data.split('\\n'):\n",
    "    tree = tree.process_command(command)\n",
    "\n",
    "# reset back to root\n",
    "tree = tree.root\n",
    "\n",
    "# Traverse tree and get sizes\n",
    "to_check = {tree}\n",
    "seen = set()\n",
    "total_sizes = []\n",
    "max_size = 100000\n",
    "\n",
    "while to_check:\n",
    "    dir_ = to_check.pop()\n",
    "    seen.add(dir_)\n",
    "    children = set(dir_.children)\n",
    "    to_check.update(children.difference(seen))\n",
    "    total_sizes.append(dir_.get_total_size())\n",
    "\n",
    "# Filter sizes and sum for result\n",
    "filtered_sizes = [x for x in total_sizes if x <= max_size]\n",
    "sum(filtered_sizes)\n"
   ]
  },
  {
   "cell_type": "markdown",
   "id": "507c59da",
   "metadata": {},
   "source": [
    "### Part 2"
   ]
  },
  {
   "cell_type": "code",
   "execution_count": 33,
   "id": "b55890f7",
   "metadata": {},
   "outputs": [
    {
     "data": {
      "text/plain": [
       "3866390"
      ]
     },
     "execution_count": 33,
     "metadata": {},
     "output_type": "execute_result"
    }
   ],
   "source": [
    "disk_space = 70000000\n",
    "space_needed = 30000000\n",
    "\n",
    "total_used = max(total_sizes)\n",
    "unused_space = disk_space - total_used\n",
    "target = space_needed - unused_space\n",
    "\n",
    "min([x for x in total_sizes if x > target])"
   ]
  },
  {
   "cell_type": "code",
   "execution_count": null,
   "id": "ca52d0bc",
   "metadata": {},
   "outputs": [],
   "source": []
  }
 ],
 "metadata": {
  "kernelspec": {
   "display_name": "Python 3 (ipykernel)",
   "language": "python",
   "name": "python3"
  },
  "language_info": {
   "codemirror_mode": {
    "name": "ipython",
    "version": 3
   },
   "file_extension": ".py",
   "mimetype": "text/x-python",
   "name": "python",
   "nbconvert_exporter": "python",
   "pygments_lexer": "ipython3",
   "version": "3.10.0"
  }
 },
 "nbformat": 4,
 "nbformat_minor": 5
}
